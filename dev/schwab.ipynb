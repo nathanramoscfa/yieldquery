{
 "cells": [
  {
   "cell_type": "code",
   "execution_count": 1,
   "id": "169a9f92-ac3a-456c-877e-07dafe753969",
   "metadata": {
    "tags": []
   },
   "outputs": [],
   "source": [
    "import sys\n",
    "sys.path.insert(0, '..')  # Add the parent directory (project root directory) to the Python path"
   ]
  },
  {
   "cell_type": "code",
   "execution_count": 2,
   "id": "53da216d-9b0e-4a94-9254-b30d7116d2dc",
   "metadata": {},
   "outputs": [],
   "source": [
    "from bots.schwab import schwab_bot"
   ]
  },
  {
   "cell_type": "code",
   "execution_count": 3,
   "id": "fba50d32-f5ac-4fb0-aacf-c6dbf81bcf99",
   "metadata": {
    "tags": []
   },
   "outputs": [
    {
     "name": "stdout",
     "output_type": "stream",
     "text": [
      "Downloading Schwab ETF yield data...\n"
     ]
    },
    {
     "name": "stderr",
     "output_type": "stream",
     "text": [
      "100%|████████████████████████████████████████████████████████████████████████████████████████████| 9/9 [00:00<?, ?it/s]\n",
      "100%|████████████████████████████████████████████████████████████████████████████████████████████| 9/9 [00:00<?, ?it/s]\n",
      "100%|████████████████████████████████████████████████████████████████████████████████████| 9/9 [00:07<00:00,  1.21it/s]"
     ]
    },
    {
     "name": "stdout",
     "output_type": "stream",
     "text": [
      "Saving Schwab ETF yield data to CSV file...\n",
      "Done!\n"
     ]
    },
    {
     "name": "stderr",
     "output_type": "stream",
     "text": [
      "\n"
     ]
    },
    {
     "data": {
      "text/html": [
       "<div>\n",
       "<style scoped>\n",
       "    .dataframe tbody tr th:only-of-type {\n",
       "        vertical-align: middle;\n",
       "    }\n",
       "\n",
       "    .dataframe tbody tr th {\n",
       "        vertical-align: top;\n",
       "    }\n",
       "\n",
       "    .dataframe thead th {\n",
       "        text-align: right;\n",
       "    }\n",
       "</style>\n",
       "<table border=\"1\" class=\"dataframe\">\n",
       "  <thead>\n",
       "    <tr style=\"text-align: right;\">\n",
       "      <th></th>\n",
       "      <th>ETF Name</th>\n",
       "      <th>SEC Yield (30 Day)</th>\n",
       "      <th>SEC Yield (30 Day) Date</th>\n",
       "      <th>Distribution Yield (TTM)</th>\n",
       "      <th>Distribution Yield (TTM) Date</th>\n",
       "      <th>Average Yield to Maturity</th>\n",
       "      <th>Average Yield to Maturity Date</th>\n",
       "    </tr>\n",
       "    <tr>\n",
       "      <th>Ticker</th>\n",
       "      <th></th>\n",
       "      <th></th>\n",
       "      <th></th>\n",
       "      <th></th>\n",
       "      <th></th>\n",
       "      <th></th>\n",
       "      <th></th>\n",
       "    </tr>\n",
       "  </thead>\n",
       "  <tbody>\n",
       "    <tr>\n",
       "      <th>SCHI</th>\n",
       "      <td>Schwab 5-10 Year Corporate Bond ETF</td>\n",
       "      <td>0.0558</td>\n",
       "      <td>12-07-2023</td>\n",
       "      <td>0.0427</td>\n",
       "      <td>10-31-2023</td>\n",
       "      <td>0.0604</td>\n",
       "      <td>09-30-2023</td>\n",
       "    </tr>\n",
       "    <tr>\n",
       "      <th>SCHJ</th>\n",
       "      <td>Schwab 1-5 Year Corporate Bond ETF</td>\n",
       "      <td>0.0551</td>\n",
       "      <td>12-07-2023</td>\n",
       "      <td>0.0273</td>\n",
       "      <td>10-31-2023</td>\n",
       "      <td>0.0598</td>\n",
       "      <td>09-30-2023</td>\n",
       "    </tr>\n",
       "    <tr>\n",
       "      <th>SCHO</th>\n",
       "      <td>Schwab Short-Term U.S. Treasury ETF</td>\n",
       "      <td>0.0487</td>\n",
       "      <td>12-07-2023</td>\n",
       "      <td>0.0334</td>\n",
       "      <td>10-31-2023</td>\n",
       "      <td>0.0510</td>\n",
       "      <td>09-30-2023</td>\n",
       "    </tr>\n",
       "    <tr>\n",
       "      <th>SCHP</th>\n",
       "      <td>Schwab U.S. TIPS ETF</td>\n",
       "      <td>0.0494</td>\n",
       "      <td>12-07-2023</td>\n",
       "      <td>0.0391</td>\n",
       "      <td>10-31-2023</td>\n",
       "      <td>0.0473</td>\n",
       "      <td>09-30-2023</td>\n",
       "    </tr>\n",
       "    <tr>\n",
       "      <th>SCHQ</th>\n",
       "      <td>Schwab Long-Term U.S. Treasury ETF</td>\n",
       "      <td>0.0451</td>\n",
       "      <td>12-07-2023</td>\n",
       "      <td>0.0416</td>\n",
       "      <td>10-31-2023</td>\n",
       "      <td>0.0485</td>\n",
       "      <td>09-30-2023</td>\n",
       "    </tr>\n",
       "    <tr>\n",
       "      <th>SCHR</th>\n",
       "      <td>Schwab Intermediate-Term U.S. Treasury ETF</td>\n",
       "      <td>0.0441</td>\n",
       "      <td>12-07-2023</td>\n",
       "      <td>0.0311</td>\n",
       "      <td>10-31-2023</td>\n",
       "      <td>0.0465</td>\n",
       "      <td>09-30-2023</td>\n",
       "    </tr>\n",
       "    <tr>\n",
       "      <th>SCHZ</th>\n",
       "      <td>Schwab U.S. Aggregate Bond ETF</td>\n",
       "      <td>0.0449</td>\n",
       "      <td>12-07-2023</td>\n",
       "      <td>0.0329</td>\n",
       "      <td>10-31-2023</td>\n",
       "      <td>0.0541</td>\n",
       "      <td>09-30-2023</td>\n",
       "    </tr>\n",
       "    <tr>\n",
       "      <th>SCMB</th>\n",
       "      <td>Schwab Municipal Bond ETF</td>\n",
       "      <td>0.0359</td>\n",
       "      <td>12-07-2023</td>\n",
       "      <td>0.0313</td>\n",
       "      <td>10-31-2023</td>\n",
       "      <td>0.0442</td>\n",
       "      <td>09-30-2023</td>\n",
       "    </tr>\n",
       "    <tr>\n",
       "      <th>SCYB</th>\n",
       "      <td>Schwab High Yield Bond ETF</td>\n",
       "      <td>0.0816</td>\n",
       "      <td>12-07-2023</td>\n",
       "      <td>0.0000</td>\n",
       "      <td>10-31-2023</td>\n",
       "      <td>0.0880</td>\n",
       "      <td>09-30-2023</td>\n",
       "    </tr>\n",
       "  </tbody>\n",
       "</table>\n",
       "</div>"
      ],
      "text/plain": [
       "                                          ETF Name  SEC Yield (30 Day)  \\\n",
       "Ticker                                                                   \n",
       "SCHI           Schwab 5-10 Year Corporate Bond ETF              0.0558   \n",
       "SCHJ            Schwab 1-5 Year Corporate Bond ETF              0.0551   \n",
       "SCHO           Schwab Short-Term U.S. Treasury ETF              0.0487   \n",
       "SCHP                          Schwab U.S. TIPS ETF              0.0494   \n",
       "SCHQ            Schwab Long-Term U.S. Treasury ETF              0.0451   \n",
       "SCHR    Schwab Intermediate-Term U.S. Treasury ETF              0.0441   \n",
       "SCHZ                Schwab U.S. Aggregate Bond ETF              0.0449   \n",
       "SCMB                     Schwab Municipal Bond ETF              0.0359   \n",
       "SCYB                    Schwab High Yield Bond ETF              0.0816   \n",
       "\n",
       "       SEC Yield (30 Day) Date  Distribution Yield (TTM)  \\\n",
       "Ticker                                                     \n",
       "SCHI                12-07-2023                    0.0427   \n",
       "SCHJ                12-07-2023                    0.0273   \n",
       "SCHO                12-07-2023                    0.0334   \n",
       "SCHP                12-07-2023                    0.0391   \n",
       "SCHQ                12-07-2023                    0.0416   \n",
       "SCHR                12-07-2023                    0.0311   \n",
       "SCHZ                12-07-2023                    0.0329   \n",
       "SCMB                12-07-2023                    0.0313   \n",
       "SCYB                12-07-2023                    0.0000   \n",
       "\n",
       "       Distribution Yield (TTM) Date  Average Yield to Maturity  \\\n",
       "Ticker                                                            \n",
       "SCHI                      10-31-2023                     0.0604   \n",
       "SCHJ                      10-31-2023                     0.0598   \n",
       "SCHO                      10-31-2023                     0.0510   \n",
       "SCHP                      10-31-2023                     0.0473   \n",
       "SCHQ                      10-31-2023                     0.0485   \n",
       "SCHR                      10-31-2023                     0.0465   \n",
       "SCHZ                      10-31-2023                     0.0541   \n",
       "SCMB                      10-31-2023                     0.0442   \n",
       "SCYB                      10-31-2023                     0.0880   \n",
       "\n",
       "       Average Yield to Maturity Date  \n",
       "Ticker                                 \n",
       "SCHI                       09-30-2023  \n",
       "SCHJ                       09-30-2023  \n",
       "SCHO                       09-30-2023  \n",
       "SCHP                       09-30-2023  \n",
       "SCHQ                       09-30-2023  \n",
       "SCHR                       09-30-2023  \n",
       "SCHZ                       09-30-2023  \n",
       "SCMB                       09-30-2023  \n",
       "SCYB                       09-30-2023  "
      ]
     },
     "execution_count": 3,
     "metadata": {},
     "output_type": "execute_result"
    }
   ],
   "source": [
    "df = schwab_bot(return_df=True)\n",
    "df"
   ]
  },
  {
   "cell_type": "code",
   "execution_count": 4,
   "id": "c43b1fb2-3d22-4d27-9bf7-f347e97afe29",
   "metadata": {
    "tags": []
   },
   "outputs": [],
   "source": [
    "# import bots.schwab as bot\n",
    "# table_html = bot.get_table()\n",
    "# links = bot.get_links(table_html)\n",
    "# tickers_and_names = bot.get_tickers_and_names(table_html)\n",
    "# yield_data = bot.get_yield_data(links)\n",
    "# df = bot.data_to_dataframe(tickers_and_names, yield_data)\n",
    "# df"
   ]
  },
  {
   "cell_type": "code",
   "execution_count": null,
   "id": "1a9f5571-abf4-47db-a4d8-fce7483dcaa0",
   "metadata": {},
   "outputs": [],
   "source": []
  }
 ],
 "metadata": {
  "kernelspec": {
   "display_name": "Python 3 (ipykernel)",
   "language": "python",
   "name": "python3"
  },
  "language_info": {
   "codemirror_mode": {
    "name": "ipython",
    "version": 3
   },
   "file_extension": ".py",
   "mimetype": "text/x-python",
   "name": "python",
   "nbconvert_exporter": "python",
   "pygments_lexer": "ipython3",
   "version": "3.11.3"
  }
 },
 "nbformat": 4,
 "nbformat_minor": 5
}
