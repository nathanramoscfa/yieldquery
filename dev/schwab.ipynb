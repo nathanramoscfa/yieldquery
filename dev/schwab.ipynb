{
 "cells": [
  {
   "cell_type": "code",
   "execution_count": 1,
   "id": "169a9f92-ac3a-456c-877e-07dafe753969",
   "metadata": {
    "tags": []
   },
   "outputs": [],
   "source": [
    "import sys\n",
    "sys.path.insert(0, '..')  # Add the parent directory (project root directory) to the Python path"
   ]
  },
  {
   "cell_type": "code",
   "execution_count": 2,
   "id": "53da216d-9b0e-4a94-9254-b30d7116d2dc",
   "metadata": {},
   "outputs": [],
   "source": [
    "from bots.schwab import schwab_bot"
   ]
  },
  {
   "cell_type": "code",
   "execution_count": 3,
   "id": "fba50d32-f5ac-4fb0-aacf-c6dbf81bcf99",
   "metadata": {
    "tags": []
   },
   "outputs": [
    {
     "name": "stdout",
     "output_type": "stream",
     "text": [
      "Downloading Schwab ETF data...\n"
     ]
    },
    {
     "name": "stderr",
     "output_type": "stream",
     "text": [
      "100%|████████████████████████████████████████████████████████████████████████████████████████████| 8/8 [00:00<?, ?it/s]\n",
      "100%|████████████████████████████████████████████████████████████████████████████████████████████| 8/8 [00:00<?, ?it/s]\n",
      "100%|████████████████████████████████████████████████████████████████████████████████████| 8/8 [00:10<00:00,  1.26s/it]"
     ]
    },
    {
     "name": "stdout",
     "output_type": "stream",
     "text": [
      "Saving Schwab ETF data...\n",
      "Done.\n"
     ]
    },
    {
     "name": "stderr",
     "output_type": "stream",
     "text": [
      "\n"
     ]
    },
    {
     "data": {
      "text/html": [
       "<div>\n",
       "<style scoped>\n",
       "    .dataframe tbody tr th:only-of-type {\n",
       "        vertical-align: middle;\n",
       "    }\n",
       "\n",
       "    .dataframe tbody tr th {\n",
       "        vertical-align: top;\n",
       "    }\n",
       "\n",
       "    .dataframe thead th {\n",
       "        text-align: right;\n",
       "    }\n",
       "</style>\n",
       "<table border=\"1\" class=\"dataframe\">\n",
       "  <thead>\n",
       "    <tr style=\"text-align: right;\">\n",
       "      <th></th>\n",
       "      <th>ETF Name</th>\n",
       "      <th>SEC Yield (30 Day)</th>\n",
       "      <th>SEC Yield (30 Day) Date</th>\n",
       "      <th>Distribution Yield (TTM)</th>\n",
       "      <th>Distribution Yield (TTM) Date</th>\n",
       "      <th>Average Yield to Maturity</th>\n",
       "      <th>Average Yield to Maturity Date</th>\n",
       "    </tr>\n",
       "    <tr>\n",
       "      <th>Ticker</th>\n",
       "      <th></th>\n",
       "      <th></th>\n",
       "      <th></th>\n",
       "      <th></th>\n",
       "      <th></th>\n",
       "      <th></th>\n",
       "      <th></th>\n",
       "    </tr>\n",
       "  </thead>\n",
       "  <tbody>\n",
       "    <tr>\n",
       "      <th>SCHI</th>\n",
       "      <td>Schwab 5-10 Year Corporate Bond ETF</td>\n",
       "      <td>0.0531</td>\n",
       "      <td>06-30-2023</td>\n",
       "      <td>0.0321</td>\n",
       "      <td>05-31-2023</td>\n",
       "      <td>0.0508</td>\n",
       "      <td>03-31-2023</td>\n",
       "    </tr>\n",
       "    <tr>\n",
       "      <th>SCHJ</th>\n",
       "      <td>Schwab 1-5 Year Corporate Bond ETF</td>\n",
       "      <td>0.0534</td>\n",
       "      <td>06-30-2023</td>\n",
       "      <td>0.0209</td>\n",
       "      <td>05-31-2023</td>\n",
       "      <td>0.0514</td>\n",
       "      <td>03-31-2023</td>\n",
       "    </tr>\n",
       "    <tr>\n",
       "      <th>SCHO</th>\n",
       "      <td>Schwab Short-Term U.S. Treasury ETF</td>\n",
       "      <td>0.0475</td>\n",
       "      <td>06-30-2023</td>\n",
       "      <td>0.0226</td>\n",
       "      <td>05-31-2023</td>\n",
       "      <td>0.0414</td>\n",
       "      <td>03-31-2023</td>\n",
       "    </tr>\n",
       "    <tr>\n",
       "      <th>SCHP</th>\n",
       "      <td>Schwab U.S. TIPS ETF</td>\n",
       "      <td>0.0846</td>\n",
       "      <td>06-30-2023</td>\n",
       "      <td>0.0585</td>\n",
       "      <td>05-31-2023</td>\n",
       "      <td>0.0371</td>\n",
       "      <td>03-31-2023</td>\n",
       "    </tr>\n",
       "    <tr>\n",
       "      <th>SCHQ</th>\n",
       "      <td>Schwab Long-Term U.S. Treasury ETF</td>\n",
       "      <td>0.0396</td>\n",
       "      <td>06-30-2023</td>\n",
       "      <td>0.0316</td>\n",
       "      <td>05-31-2023</td>\n",
       "      <td>0.0377</td>\n",
       "      <td>03-31-2023</td>\n",
       "    </tr>\n",
       "    <tr>\n",
       "      <th>SCHR</th>\n",
       "      <td>Schwab Intermediate-Term U.S. Treasury ETF</td>\n",
       "      <td>0.0399</td>\n",
       "      <td>06-30-2023</td>\n",
       "      <td>0.0262</td>\n",
       "      <td>05-31-2023</td>\n",
       "      <td>0.0363</td>\n",
       "      <td>03-31-2023</td>\n",
       "    </tr>\n",
       "    <tr>\n",
       "      <th>SCHZ</th>\n",
       "      <td>Schwab U.S. Aggregate Bond ETF</td>\n",
       "      <td>0.0419</td>\n",
       "      <td>06-30-2023</td>\n",
       "      <td>0.0278</td>\n",
       "      <td>05-31-2023</td>\n",
       "      <td>0.0438</td>\n",
       "      <td>03-31-2023</td>\n",
       "    </tr>\n",
       "    <tr>\n",
       "      <th>SCMB</th>\n",
       "      <td>Schwab Municipal Bond ETF</td>\n",
       "      <td>0.0338</td>\n",
       "      <td>06-30-2023</td>\n",
       "      <td>0.0000</td>\n",
       "      <td>05-31-2023</td>\n",
       "      <td>0.0358</td>\n",
       "      <td>03-31-2023</td>\n",
       "    </tr>\n",
       "  </tbody>\n",
       "</table>\n",
       "</div>"
      ],
      "text/plain": [
       "                                          ETF Name  SEC Yield (30 Day)  \\\n",
       "Ticker                                                                   \n",
       "SCHI           Schwab 5-10 Year Corporate Bond ETF              0.0531   \n",
       "SCHJ            Schwab 1-5 Year Corporate Bond ETF              0.0534   \n",
       "SCHO           Schwab Short-Term U.S. Treasury ETF              0.0475   \n",
       "SCHP                          Schwab U.S. TIPS ETF              0.0846   \n",
       "SCHQ            Schwab Long-Term U.S. Treasury ETF              0.0396   \n",
       "SCHR    Schwab Intermediate-Term U.S. Treasury ETF              0.0399   \n",
       "SCHZ                Schwab U.S. Aggregate Bond ETF              0.0419   \n",
       "SCMB                     Schwab Municipal Bond ETF              0.0338   \n",
       "\n",
       "       SEC Yield (30 Day) Date  Distribution Yield (TTM)  \\\n",
       "Ticker                                                     \n",
       "SCHI                06-30-2023                    0.0321   \n",
       "SCHJ                06-30-2023                    0.0209   \n",
       "SCHO                06-30-2023                    0.0226   \n",
       "SCHP                06-30-2023                    0.0585   \n",
       "SCHQ                06-30-2023                    0.0316   \n",
       "SCHR                06-30-2023                    0.0262   \n",
       "SCHZ                06-30-2023                    0.0278   \n",
       "SCMB                06-30-2023                    0.0000   \n",
       "\n",
       "       Distribution Yield (TTM) Date  Average Yield to Maturity  \\\n",
       "Ticker                                                            \n",
       "SCHI                      05-31-2023                     0.0508   \n",
       "SCHJ                      05-31-2023                     0.0514   \n",
       "SCHO                      05-31-2023                     0.0414   \n",
       "SCHP                      05-31-2023                     0.0371   \n",
       "SCHQ                      05-31-2023                     0.0377   \n",
       "SCHR                      05-31-2023                     0.0363   \n",
       "SCHZ                      05-31-2023                     0.0438   \n",
       "SCMB                      05-31-2023                     0.0358   \n",
       "\n",
       "       Average Yield to Maturity Date  \n",
       "Ticker                                 \n",
       "SCHI                       03-31-2023  \n",
       "SCHJ                       03-31-2023  \n",
       "SCHO                       03-31-2023  \n",
       "SCHP                       03-31-2023  \n",
       "SCHQ                       03-31-2023  \n",
       "SCHR                       03-31-2023  \n",
       "SCHZ                       03-31-2023  \n",
       "SCMB                       03-31-2023  "
      ]
     },
     "execution_count": 3,
     "metadata": {},
     "output_type": "execute_result"
    }
   ],
   "source": [
    "df = schwab_bot(return_df=True)\n",
    "df"
   ]
  }
 ],
 "metadata": {
  "kernelspec": {
   "display_name": "Python 3 (ipykernel)",
   "language": "python",
   "name": "python3"
  },
  "language_info": {
   "codemirror_mode": {
    "name": "ipython",
    "version": 3
   },
   "file_extension": ".py",
   "mimetype": "text/x-python",
   "name": "python",
   "nbconvert_exporter": "python",
   "pygments_lexer": "ipython3",
   "version": "3.11.3"
  }
 },
 "nbformat": 4,
 "nbformat_minor": 5
}
