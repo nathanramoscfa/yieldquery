{
 "cells": [
  {
   "cell_type": "code",
   "execution_count": 1,
   "id": "169a9f92-ac3a-456c-877e-07dafe753969",
   "metadata": {
    "tags": []
   },
   "outputs": [],
   "source": [
    "import sys\n",
    "sys.path.insert(0, '..')  # Add the parent directory (project root directory) to the Python path"
   ]
  },
  {
   "cell_type": "code",
   "execution_count": 2,
   "id": "53da216d-9b0e-4a94-9254-b30d7116d2dc",
   "metadata": {},
   "outputs": [],
   "source": [
    "from bots.schwab import schwab_bot"
   ]
  },
  {
   "cell_type": "code",
   "execution_count": 3,
   "id": "fba50d32-f5ac-4fb0-aacf-c6dbf81bcf99",
   "metadata": {
    "tags": []
   },
   "outputs": [
    {
     "name": "stdout",
     "output_type": "stream",
     "text": [
      "Downloading Schwab ETF yield data...\n"
     ]
    },
    {
     "name": "stderr",
     "output_type": "stream",
     "text": [
      "100%|████████████████████████████████████████████████████████████████████████████████████| 9/9 [00:57<00:00,  6.35s/it]\n"
     ]
    },
    {
     "name": "stdout",
     "output_type": "stream",
     "text": [
      "Saving Schwab ETF yield data to CSV file...\n",
      "Done!\n"
     ]
    },
    {
     "data": {
      "text/html": [
       "<div>\n",
       "<style scoped>\n",
       "    .dataframe tbody tr th:only-of-type {\n",
       "        vertical-align: middle;\n",
       "    }\n",
       "\n",
       "    .dataframe tbody tr th {\n",
       "        vertical-align: top;\n",
       "    }\n",
       "\n",
       "    .dataframe thead th {\n",
       "        text-align: right;\n",
       "    }\n",
       "</style>\n",
       "<table border=\"1\" class=\"dataframe\">\n",
       "  <thead>\n",
       "    <tr style=\"text-align: right;\">\n",
       "      <th></th>\n",
       "      <th>Name</th>\n",
       "      <th>Yield to Maturity</th>\n",
       "      <th>As of</th>\n",
       "    </tr>\n",
       "    <tr>\n",
       "      <th>Ticker</th>\n",
       "      <th></th>\n",
       "      <th></th>\n",
       "      <th></th>\n",
       "    </tr>\n",
       "  </thead>\n",
       "  <tbody>\n",
       "    <tr>\n",
       "      <th>SCHJ</th>\n",
       "      <td>Schwab 1-5 Year Corporate Bond ETF</td>\n",
       "      <td>0.0598</td>\n",
       "      <td>09-30-2023</td>\n",
       "    </tr>\n",
       "    <tr>\n",
       "      <th>SCHI</th>\n",
       "      <td>Schwab 5-10 Year Corporate Bond ETF</td>\n",
       "      <td>0.0604</td>\n",
       "      <td>09-30-2023</td>\n",
       "    </tr>\n",
       "    <tr>\n",
       "      <th>SCYB</th>\n",
       "      <td>Schwab High Yield Bond ETF</td>\n",
       "      <td>0.0880</td>\n",
       "      <td>09-30-2023</td>\n",
       "    </tr>\n",
       "    <tr>\n",
       "      <th>SCHR</th>\n",
       "      <td>Schwab Intermediate-Term U.S. Treasury ETF</td>\n",
       "      <td>0.0465</td>\n",
       "      <td>09-30-2023</td>\n",
       "    </tr>\n",
       "    <tr>\n",
       "      <th>SCHQ</th>\n",
       "      <td>Schwab Long-Term U.S. Treasury ETF</td>\n",
       "      <td>0.0485</td>\n",
       "      <td>09-30-2023</td>\n",
       "    </tr>\n",
       "    <tr>\n",
       "      <th>SCMB</th>\n",
       "      <td>Schwab Municipal Bond ETF</td>\n",
       "      <td>0.0442</td>\n",
       "      <td>09-30-2023</td>\n",
       "    </tr>\n",
       "    <tr>\n",
       "      <th>SCHO</th>\n",
       "      <td>Schwab Short-Term U.S. Treasury ETF</td>\n",
       "      <td>0.0510</td>\n",
       "      <td>09-30-2023</td>\n",
       "    </tr>\n",
       "    <tr>\n",
       "      <th>SCHZ</th>\n",
       "      <td>Schwab U.S. Aggregate Bond ETF</td>\n",
       "      <td>0.0541</td>\n",
       "      <td>09-30-2023</td>\n",
       "    </tr>\n",
       "    <tr>\n",
       "      <th>SCHP</th>\n",
       "      <td>Schwab U.S. TIPS ETF</td>\n",
       "      <td>0.0473</td>\n",
       "      <td>09-30-2023</td>\n",
       "    </tr>\n",
       "  </tbody>\n",
       "</table>\n",
       "</div>"
      ],
      "text/plain": [
       "                                              Name  Yield to Maturity  \\\n",
       "Ticker                                                                  \n",
       "SCHJ            Schwab 1-5 Year Corporate Bond ETF             0.0598   \n",
       "SCHI           Schwab 5-10 Year Corporate Bond ETF             0.0604   \n",
       "SCYB                    Schwab High Yield Bond ETF             0.0880   \n",
       "SCHR    Schwab Intermediate-Term U.S. Treasury ETF             0.0465   \n",
       "SCHQ            Schwab Long-Term U.S. Treasury ETF             0.0485   \n",
       "SCMB                     Schwab Municipal Bond ETF             0.0442   \n",
       "SCHO           Schwab Short-Term U.S. Treasury ETF             0.0510   \n",
       "SCHZ                Schwab U.S. Aggregate Bond ETF             0.0541   \n",
       "SCHP                          Schwab U.S. TIPS ETF             0.0473   \n",
       "\n",
       "             As of  \n",
       "Ticker              \n",
       "SCHJ    09-30-2023  \n",
       "SCHI    09-30-2023  \n",
       "SCYB    09-30-2023  \n",
       "SCHR    09-30-2023  \n",
       "SCHQ    09-30-2023  \n",
       "SCMB    09-30-2023  \n",
       "SCHO    09-30-2023  \n",
       "SCHZ    09-30-2023  \n",
       "SCHP    09-30-2023  "
      ]
     },
     "execution_count": 3,
     "metadata": {},
     "output_type": "execute_result"
    }
   ],
   "source": [
    "df = schwab_bot(return_df=True, headless=False)\n",
    "df"
   ]
  },
  {
   "cell_type": "code",
   "execution_count": null,
   "id": "a3f4d980-e2ca-4ac0-854e-89467381f7a4",
   "metadata": {},
   "outputs": [],
   "source": []
  }
 ],
 "metadata": {
  "kernelspec": {
   "display_name": "Python 3 (ipykernel)",
   "language": "python",
   "name": "python3"
  },
  "language_info": {
   "codemirror_mode": {
    "name": "ipython",
    "version": 3
   },
   "file_extension": ".py",
   "mimetype": "text/x-python",
   "name": "python",
   "nbconvert_exporter": "python",
   "pygments_lexer": "ipython3",
   "version": "3.11.3"
  }
 },
 "nbformat": 4,
 "nbformat_minor": 5
}
