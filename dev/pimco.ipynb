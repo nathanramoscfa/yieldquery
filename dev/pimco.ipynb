{
 "cells": [
  {
   "cell_type": "code",
   "execution_count": 1,
   "id": "c98237cc-2bdf-405f-a612-9cd4fd901ead",
   "metadata": {},
   "outputs": [],
   "source": [
    "import sys\n",
    "sys.path.insert(0, '..')  # Add the parent directory (project root directory) to the Python path"
   ]
  },
  {
   "cell_type": "code",
   "execution_count": 2,
   "id": "51fdcc6c-71e8-4576-bd9c-bdbdfffd59c5",
   "metadata": {
    "tags": []
   },
   "outputs": [],
   "source": [
    "from bots.pimco import pimco_bot"
   ]
  },
  {
   "cell_type": "code",
   "execution_count": 3,
   "id": "d050338e-68f1-4f4b-830a-57cb5cadb3da",
   "metadata": {
    "tags": []
   },
   "outputs": [
    {
     "name": "stdout",
     "output_type": "stream",
     "text": [
      "Downloading PIMCO ETF yield data...\n"
     ]
    },
    {
     "name": "stderr",
     "output_type": "stream",
     "text": [
      "100%|██████████████████████████████████████████████████████████████████████████████████| 11/11 [07:45<00:00, 42.31s/it]\n"
     ]
    },
    {
     "name": "stdout",
     "output_type": "stream",
     "text": [
      "  Ticker                                               Name Yield to Maturity  \\\n",
      "0   MUNI  Intermediate Municipal Bond Active Exchange-Tr...             3.71%   \n",
      "1   SMMU  Short Term Municipal Bond Active Exchange-Trad...             3.43%   \n",
      "2   BOND                   Active Bond Exchange-Traded Fund             5.28%   \n",
      "3   CORP  Investment Grade Corporate Bond Index Exchange...             5.20%   \n",
      "4   LDUR  Enhanced Low Duration Active Exchange-Traded Fund             4.93%   \n",
      "5   STPZ      1-5 Year U.S. TIPS Index Exchange-Traded Fund             4.39%   \n",
      "6   ZROZ  25+ Year Zero Coupon U.S. Treasury Index Excha...             4.07%   \n",
      "7   TIPZ         Broad U.S. TIPS Index Exchange-Traded Fund             4.39%   \n",
      "8    HYS  0-5 Year High Yield Corporate Bond Index Excha...             7.94%   \n",
      "\n",
      "         As of Date  \n",
      "0  As of 01/02/2024  \n",
      "1  As of 01/02/2024  \n",
      "2  As of 01/02/2024  \n",
      "3  As of 01/02/2024  \n",
      "4  As of 01/02/2024  \n",
      "5  As of 01/02/2024  \n",
      "6  As of 01/02/2024  \n",
      "7  As of 01/02/2024  \n",
      "8  As of 01/02/2024  \n",
      "Saving PIMCO ETF yield data to CSV file...\n",
      "Done!\n"
     ]
    },
    {
     "data": {
      "text/html": [
       "<div>\n",
       "<style scoped>\n",
       "    .dataframe tbody tr th:only-of-type {\n",
       "        vertical-align: middle;\n",
       "    }\n",
       "\n",
       "    .dataframe tbody tr th {\n",
       "        vertical-align: top;\n",
       "    }\n",
       "\n",
       "    .dataframe thead th {\n",
       "        text-align: right;\n",
       "    }\n",
       "</style>\n",
       "<table border=\"1\" class=\"dataframe\">\n",
       "  <thead>\n",
       "    <tr style=\"text-align: right;\">\n",
       "      <th></th>\n",
       "      <th>Name</th>\n",
       "      <th>Yield to Maturity</th>\n",
       "      <th>As of Date</th>\n",
       "    </tr>\n",
       "    <tr>\n",
       "      <th>Ticker</th>\n",
       "      <th></th>\n",
       "      <th></th>\n",
       "      <th></th>\n",
       "    </tr>\n",
       "  </thead>\n",
       "  <tbody>\n",
       "    <tr>\n",
       "      <th>MUNI</th>\n",
       "      <td>Intermediate Municipal Bond Active Exchange-Tr...</td>\n",
       "      <td>0.0371</td>\n",
       "      <td>01-02-2024</td>\n",
       "    </tr>\n",
       "    <tr>\n",
       "      <th>SMMU</th>\n",
       "      <td>Short Term Municipal Bond Active Exchange-Trad...</td>\n",
       "      <td>0.0343</td>\n",
       "      <td>01-02-2024</td>\n",
       "    </tr>\n",
       "    <tr>\n",
       "      <th>BOND</th>\n",
       "      <td>Active Bond Exchange-Traded Fund</td>\n",
       "      <td>0.0528</td>\n",
       "      <td>01-02-2024</td>\n",
       "    </tr>\n",
       "    <tr>\n",
       "      <th>CORP</th>\n",
       "      <td>Investment Grade Corporate Bond Index Exchange...</td>\n",
       "      <td>0.0520</td>\n",
       "      <td>01-02-2024</td>\n",
       "    </tr>\n",
       "    <tr>\n",
       "      <th>LDUR</th>\n",
       "      <td>Enhanced Low Duration Active Exchange-Traded Fund</td>\n",
       "      <td>0.0493</td>\n",
       "      <td>01-02-2024</td>\n",
       "    </tr>\n",
       "    <tr>\n",
       "      <th>STPZ</th>\n",
       "      <td>1-5 Year U.S. TIPS Index Exchange-Traded Fund</td>\n",
       "      <td>0.0439</td>\n",
       "      <td>01-02-2024</td>\n",
       "    </tr>\n",
       "    <tr>\n",
       "      <th>ZROZ</th>\n",
       "      <td>25+ Year Zero Coupon U.S. Treasury Index Excha...</td>\n",
       "      <td>0.0407</td>\n",
       "      <td>01-02-2024</td>\n",
       "    </tr>\n",
       "    <tr>\n",
       "      <th>TIPZ</th>\n",
       "      <td>Broad U.S. TIPS Index Exchange-Traded Fund</td>\n",
       "      <td>0.0439</td>\n",
       "      <td>01-02-2024</td>\n",
       "    </tr>\n",
       "    <tr>\n",
       "      <th>HYS</th>\n",
       "      <td>0-5 Year High Yield Corporate Bond Index Excha...</td>\n",
       "      <td>0.0794</td>\n",
       "      <td>01-02-2024</td>\n",
       "    </tr>\n",
       "  </tbody>\n",
       "</table>\n",
       "</div>"
      ],
      "text/plain": [
       "                                                     Name  Yield to Maturity  \\\n",
       "Ticker                                                                         \n",
       "MUNI    Intermediate Municipal Bond Active Exchange-Tr...             0.0371   \n",
       "SMMU    Short Term Municipal Bond Active Exchange-Trad...             0.0343   \n",
       "BOND                     Active Bond Exchange-Traded Fund             0.0528   \n",
       "CORP    Investment Grade Corporate Bond Index Exchange...             0.0520   \n",
       "LDUR    Enhanced Low Duration Active Exchange-Traded Fund             0.0493   \n",
       "STPZ        1-5 Year U.S. TIPS Index Exchange-Traded Fund             0.0439   \n",
       "ZROZ    25+ Year Zero Coupon U.S. Treasury Index Excha...             0.0407   \n",
       "TIPZ           Broad U.S. TIPS Index Exchange-Traded Fund             0.0439   \n",
       "HYS     0-5 Year High Yield Corporate Bond Index Excha...             0.0794   \n",
       "\n",
       "        As of Date  \n",
       "Ticker              \n",
       "MUNI    01-02-2024  \n",
       "SMMU    01-02-2024  \n",
       "BOND    01-02-2024  \n",
       "CORP    01-02-2024  \n",
       "LDUR    01-02-2024  \n",
       "STPZ    01-02-2024  \n",
       "ZROZ    01-02-2024  \n",
       "TIPZ    01-02-2024  \n",
       "HYS     01-02-2024  "
      ]
     },
     "execution_count": 3,
     "metadata": {},
     "output_type": "execute_result"
    }
   ],
   "source": [
    "df = pimco_bot(return_df=True, headless=False)\n",
    "df"
   ]
  },
  {
   "cell_type": "code",
   "execution_count": null,
   "id": "b51d9f41-ba3f-4f88-b68b-ed73c0a0e8e1",
   "metadata": {},
   "outputs": [],
   "source": []
  }
 ],
 "metadata": {
  "kernelspec": {
   "display_name": "Python 3 (ipykernel)",
   "language": "python",
   "name": "python3"
  },
  "language_info": {
   "codemirror_mode": {
    "name": "ipython",
    "version": 3
   },
   "file_extension": ".py",
   "mimetype": "text/x-python",
   "name": "python",
   "nbconvert_exporter": "python",
   "pygments_lexer": "ipython3",
   "version": "3.11.3"
  }
 },
 "nbformat": 4,
 "nbformat_minor": 5
}
