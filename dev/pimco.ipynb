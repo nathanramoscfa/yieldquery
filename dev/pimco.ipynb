{
 "cells": [
  {
   "cell_type": "code",
   "execution_count": 1,
   "id": "c98237cc-2bdf-405f-a612-9cd4fd901ead",
   "metadata": {},
   "outputs": [],
   "source": [
    "import sys\n",
    "sys.path.insert(0, '..')  # Add the parent directory (project root directory) to the Python path"
   ]
  },
  {
   "cell_type": "code",
   "execution_count": 2,
   "id": "51fdcc6c-71e8-4576-bd9c-bdbdfffd59c5",
   "metadata": {
    "tags": []
   },
   "outputs": [],
   "source": [
    "from bots.pimco import pimco_bot"
   ]
  },
  {
   "cell_type": "code",
   "execution_count": 3,
   "id": "d050338e-68f1-4f4b-830a-57cb5cadb3da",
   "metadata": {
    "tags": []
   },
   "outputs": [
    {
     "name": "stdout",
     "output_type": "stream",
     "text": [
      "Downloading PIMCO ETF yield data...\n"
     ]
    },
    {
     "name": "stderr",
     "output_type": "stream",
     "text": [
      "Error getting version of chromedriver 115. Retrying with chromedriver 114 (attempt 1/5)\n",
      "100%|██████████████████████████████████████████████████████████████████████████████████████████████████████████████████████████████████████████████████████████████████████████████████████████████████████████████████████████████████████████████████| 11/11 [08:03<00:00, 43.94s/it]\n"
     ]
    },
    {
     "name": "stdout",
     "output_type": "stream",
     "text": [
      "Saving PIMCO ETF yield data to CSV file...\n",
      "Done!\n"
     ]
    },
    {
     "data": {
      "text/html": [
       "<div>\n",
       "<style scoped>\n",
       "    .dataframe tbody tr th:only-of-type {\n",
       "        vertical-align: middle;\n",
       "    }\n",
       "\n",
       "    .dataframe tbody tr th {\n",
       "        vertical-align: top;\n",
       "    }\n",
       "\n",
       "    .dataframe thead th {\n",
       "        text-align: right;\n",
       "    }\n",
       "</style>\n",
       "<table border=\"1\" class=\"dataframe\">\n",
       "  <thead>\n",
       "    <tr style=\"text-align: right;\">\n",
       "      <th></th>\n",
       "      <th>Name</th>\n",
       "      <th>Yield to Maturity</th>\n",
       "      <th>As of Date</th>\n",
       "    </tr>\n",
       "    <tr>\n",
       "      <th>Ticker</th>\n",
       "      <th></th>\n",
       "      <th></th>\n",
       "      <th></th>\n",
       "    </tr>\n",
       "  </thead>\n",
       "  <tbody>\n",
       "    <tr>\n",
       "      <th>BOND</th>\n",
       "      <td>Active Bond Exchange-Traded Fund</td>\n",
       "      <td>0.0569</td>\n",
       "      <td>08-11-2023</td>\n",
       "    </tr>\n",
       "    <tr>\n",
       "      <th>MUNI</th>\n",
       "      <td>Intermediate Municipal Bond Active Exchange-Tr...</td>\n",
       "      <td>0.0385</td>\n",
       "      <td>08-11-2023</td>\n",
       "    </tr>\n",
       "    <tr>\n",
       "      <th>ZROZ</th>\n",
       "      <td>25+ Year Zero Coupon U.S. Treasury Index Excha...</td>\n",
       "      <td>0.0426</td>\n",
       "      <td>08-11-2023</td>\n",
       "    </tr>\n",
       "    <tr>\n",
       "      <th>TIPZ</th>\n",
       "      <td>Broad U.S. TIPS Index Exchange-Traded Fund</td>\n",
       "      <td>0.0479</td>\n",
       "      <td>08-11-2023</td>\n",
       "    </tr>\n",
       "    <tr>\n",
       "      <th>LTPZ</th>\n",
       "      <td>15+ Year U.S. TIPS Index Exchange-Traded Fund</td>\n",
       "      <td>0.0459</td>\n",
       "      <td>08-11-2023</td>\n",
       "    </tr>\n",
       "    <tr>\n",
       "      <th>LDUR</th>\n",
       "      <td>Enhanced Low Duration Active Exchange-Traded Fund</td>\n",
       "      <td>0.0571</td>\n",
       "      <td>08-11-2023</td>\n",
       "    </tr>\n",
       "    <tr>\n",
       "      <th>SMMU</th>\n",
       "      <td>Short Term Municipal Bond Active Exchange-Trad...</td>\n",
       "      <td>0.0380</td>\n",
       "      <td>08-11-2023</td>\n",
       "    </tr>\n",
       "    <tr>\n",
       "      <th>STPZ</th>\n",
       "      <td>1-5 Year U.S. TIPS Index Exchange-Traded Fund</td>\n",
       "      <td>0.0492</td>\n",
       "      <td>08-11-2023</td>\n",
       "    </tr>\n",
       "    <tr>\n",
       "      <th>CORP</th>\n",
       "      <td>Investment Grade Corporate Bond Index Exchange...</td>\n",
       "      <td>0.0571</td>\n",
       "      <td>08-11-2023</td>\n",
       "    </tr>\n",
       "    <tr>\n",
       "      <th>HYS</th>\n",
       "      <td>0-5 Year High Yield Corporate Bond Index Excha...</td>\n",
       "      <td>0.0864</td>\n",
       "      <td>08-11-2023</td>\n",
       "    </tr>\n",
       "    <tr>\n",
       "      <th>MINO</th>\n",
       "      <td>Municipal Income Opportunities Active Exchange...</td>\n",
       "      <td>0.0466</td>\n",
       "      <td>08-11-2023</td>\n",
       "    </tr>\n",
       "  </tbody>\n",
       "</table>\n",
       "</div>"
      ],
      "text/plain": [
       "                                                     Name  Yield to Maturity  \\\n",
       "Ticker                                                                         \n",
       "BOND                     Active Bond Exchange-Traded Fund             0.0569   \n",
       "MUNI    Intermediate Municipal Bond Active Exchange-Tr...             0.0385   \n",
       "ZROZ    25+ Year Zero Coupon U.S. Treasury Index Excha...             0.0426   \n",
       "TIPZ           Broad U.S. TIPS Index Exchange-Traded Fund             0.0479   \n",
       "LTPZ        15+ Year U.S. TIPS Index Exchange-Traded Fund             0.0459   \n",
       "LDUR    Enhanced Low Duration Active Exchange-Traded Fund             0.0571   \n",
       "SMMU    Short Term Municipal Bond Active Exchange-Trad...             0.0380   \n",
       "STPZ        1-5 Year U.S. TIPS Index Exchange-Traded Fund             0.0492   \n",
       "CORP    Investment Grade Corporate Bond Index Exchange...             0.0571   \n",
       "HYS     0-5 Year High Yield Corporate Bond Index Excha...             0.0864   \n",
       "MINO    Municipal Income Opportunities Active Exchange...             0.0466   \n",
       "\n",
       "        As of Date  \n",
       "Ticker              \n",
       "BOND    08-11-2023  \n",
       "MUNI    08-11-2023  \n",
       "ZROZ    08-11-2023  \n",
       "TIPZ    08-11-2023  \n",
       "LTPZ    08-11-2023  \n",
       "LDUR    08-11-2023  \n",
       "SMMU    08-11-2023  \n",
       "STPZ    08-11-2023  \n",
       "CORP    08-11-2023  \n",
       "HYS     08-11-2023  \n",
       "MINO    08-11-2023  "
      ]
     },
     "execution_count": 3,
     "metadata": {},
     "output_type": "execute_result"
    }
   ],
   "source": [
    "df = pimco_bot(return_df=True)\n",
    "df"
   ]
  },
  {
   "cell_type": "code",
   "execution_count": null,
   "id": "b51d9f41-ba3f-4f88-b68b-ed73c0a0e8e1",
   "metadata": {},
   "outputs": [],
   "source": []
  }
 ],
 "metadata": {
  "kernelspec": {
   "display_name": "Python 3 (ipykernel)",
   "language": "python",
   "name": "python3"
  },
  "language_info": {
   "codemirror_mode": {
    "name": "ipython",
    "version": 3
   },
   "file_extension": ".py",
   "mimetype": "text/x-python",
   "name": "python",
   "nbconvert_exporter": "python",
   "pygments_lexer": "ipython3",
   "version": "3.11.3"
  }
 },
 "nbformat": 4,
 "nbformat_minor": 5
}
