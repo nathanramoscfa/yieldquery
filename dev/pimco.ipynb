{
 "cells": [
  {
   "cell_type": "code",
   "execution_count": 1,
   "id": "c98237cc-2bdf-405f-a612-9cd4fd901ead",
   "metadata": {},
   "outputs": [],
   "source": [
    "import sys\n",
    "sys.path.insert(0, '..')  # Add the parent directory (project root directory) to the Python path"
   ]
  },
  {
   "cell_type": "code",
   "execution_count": 2,
   "id": "51fdcc6c-71e8-4576-bd9c-bdbdfffd59c5",
   "metadata": {
    "tags": []
   },
   "outputs": [],
   "source": [
    "from bots.pimco import pimco_bot"
   ]
  },
  {
   "cell_type": "code",
   "execution_count": 3,
   "id": "d050338e-68f1-4f4b-830a-57cb5cadb3da",
   "metadata": {
    "tags": []
   },
   "outputs": [
    {
     "name": "stdout",
     "output_type": "stream",
     "text": [
      "Downloading PIMCO ETF yield data...\n"
     ]
    },
    {
     "name": "stderr",
     "output_type": "stream",
     "text": [
      " 18%|███████████████                                                                    | 2/11 [00:50<03:49, 25.46s/it]"
     ]
    },
    {
     "name": "stdout",
     "output_type": "stream",
     "text": [
      "[{'Ticker': 'LDUR', 'Name': 'Enhanced Low Duration Active Exchange-Traded Fund', 'Yield to Maturity': '5.35%', 'As of Date': 'As of 04/01/2024'}]\n"
     ]
    },
    {
     "name": "stderr",
     "output_type": "stream",
     "text": [
      " 27%|██████████████████████▋                                                            | 3/11 [01:17<03:30, 26.30s/it]"
     ]
    },
    {
     "name": "stdout",
     "output_type": "stream",
     "text": [
      "[{'Ticker': 'LDUR', 'Name': 'Enhanced Low Duration Active Exchange-Traded Fund', 'Yield to Maturity': '5.35%', 'As of Date': 'As of 04/01/2024'}, {'Ticker': 'STPZ', 'Name': '1-5 Year U.S. TIPS Index Exchange-Traded Fund', 'Yield to Maturity': '4.74%', 'As of Date': 'As of 04/01/2024'}]\n"
     ]
    },
    {
     "name": "stderr",
     "output_type": "stream",
     "text": [
      " 36%|██████████████████████████████▏                                                    | 4/11 [01:41<02:57, 25.36s/it]"
     ]
    },
    {
     "name": "stdout",
     "output_type": "stream",
     "text": [
      "[{'Ticker': 'LDUR', 'Name': 'Enhanced Low Duration Active Exchange-Traded Fund', 'Yield to Maturity': '5.35%', 'As of Date': 'As of 04/01/2024'}, {'Ticker': 'STPZ', 'Name': '1-5 Year U.S. TIPS Index Exchange-Traded Fund', 'Yield to Maturity': '4.74%', 'As of Date': 'As of 04/01/2024'}, {'Ticker': 'LTPZ', 'Name': '15+ Year U.S. TIPS Index Exchange-Traded Fund', 'Yield to Maturity': '4.72%', 'As of Date': 'As of 04/01/2024'}]\n"
     ]
    },
    {
     "name": "stderr",
     "output_type": "stream",
     "text": [
      " 45%|█████████████████████████████████████▋                                             | 5/11 [02:07<02:33, 25.58s/it]"
     ]
    },
    {
     "name": "stdout",
     "output_type": "stream",
     "text": [
      "[{'Ticker': 'LDUR', 'Name': 'Enhanced Low Duration Active Exchange-Traded Fund', 'Yield to Maturity': '5.35%', 'As of Date': 'As of 04/01/2024'}, {'Ticker': 'STPZ', 'Name': '1-5 Year U.S. TIPS Index Exchange-Traded Fund', 'Yield to Maturity': '4.74%', 'As of Date': 'As of 04/01/2024'}, {'Ticker': 'LTPZ', 'Name': '15+ Year U.S. TIPS Index Exchange-Traded Fund', 'Yield to Maturity': '4.72%', 'As of Date': 'As of 04/01/2024'}, {'Ticker': 'ZROZ', 'Name': '25+ Year Zero Coupon U.S. Treasury Index Exchange-Traded Fund', 'Yield to Maturity': '4.45%', 'As of Date': 'As of 04/01/2024'}]\n"
     ]
    },
    {
     "name": "stderr",
     "output_type": "stream",
     "text": [
      " 55%|█████████████████████████████████████████████▎                                     | 6/11 [02:31<02:04, 24.99s/it]"
     ]
    },
    {
     "name": "stdout",
     "output_type": "stream",
     "text": [
      "[{'Ticker': 'LDUR', 'Name': 'Enhanced Low Duration Active Exchange-Traded Fund', 'Yield to Maturity': '5.35%', 'As of Date': 'As of 04/01/2024'}, {'Ticker': 'STPZ', 'Name': '1-5 Year U.S. TIPS Index Exchange-Traded Fund', 'Yield to Maturity': '4.74%', 'As of Date': 'As of 04/01/2024'}, {'Ticker': 'LTPZ', 'Name': '15+ Year U.S. TIPS Index Exchange-Traded Fund', 'Yield to Maturity': '4.72%', 'As of Date': 'As of 04/01/2024'}, {'Ticker': 'ZROZ', 'Name': '25+ Year Zero Coupon U.S. Treasury Index Exchange-Traded Fund', 'Yield to Maturity': '4.45%', 'As of Date': 'As of 04/01/2024'}, {'Ticker': 'BOND', 'Name': 'Active Bond Exchange-Traded Fund', 'Yield to Maturity': '5.65%', 'As of Date': 'As of 04/01/2024'}]\n"
     ]
    },
    {
     "name": "stderr",
     "output_type": "stream",
     "text": [
      " 64%|████████████████████████████████████████████████████▊                              | 7/11 [02:53<01:35, 23.92s/it]"
     ]
    },
    {
     "name": "stdout",
     "output_type": "stream",
     "text": [
      "[{'Ticker': 'LDUR', 'Name': 'Enhanced Low Duration Active Exchange-Traded Fund', 'Yield to Maturity': '5.35%', 'As of Date': 'As of 04/01/2024'}, {'Ticker': 'STPZ', 'Name': '1-5 Year U.S. TIPS Index Exchange-Traded Fund', 'Yield to Maturity': '4.74%', 'As of Date': 'As of 04/01/2024'}, {'Ticker': 'LTPZ', 'Name': '15+ Year U.S. TIPS Index Exchange-Traded Fund', 'Yield to Maturity': '4.72%', 'As of Date': 'As of 04/01/2024'}, {'Ticker': 'ZROZ', 'Name': '25+ Year Zero Coupon U.S. Treasury Index Exchange-Traded Fund', 'Yield to Maturity': '4.45%', 'As of Date': 'As of 04/01/2024'}, {'Ticker': 'BOND', 'Name': 'Active Bond Exchange-Traded Fund', 'Yield to Maturity': '5.65%', 'As of Date': 'As of 04/01/2024'}, {'Ticker': 'MINO', 'Name': 'Municipal Income Opportunities Active Exchange-Traded Fund', 'Yield to Maturity': '4.60%', 'As of Date': 'As of 04/01/2024'}]\n"
     ]
    },
    {
     "name": "stderr",
     "output_type": "stream",
     "text": [
      " 73%|████████████████████████████████████████████████████████████▎                      | 8/11 [03:15<01:10, 23.37s/it]"
     ]
    },
    {
     "name": "stdout",
     "output_type": "stream",
     "text": [
      "[{'Ticker': 'LDUR', 'Name': 'Enhanced Low Duration Active Exchange-Traded Fund', 'Yield to Maturity': '5.35%', 'As of Date': 'As of 04/01/2024'}, {'Ticker': 'STPZ', 'Name': '1-5 Year U.S. TIPS Index Exchange-Traded Fund', 'Yield to Maturity': '4.74%', 'As of Date': 'As of 04/01/2024'}, {'Ticker': 'LTPZ', 'Name': '15+ Year U.S. TIPS Index Exchange-Traded Fund', 'Yield to Maturity': '4.72%', 'As of Date': 'As of 04/01/2024'}, {'Ticker': 'ZROZ', 'Name': '25+ Year Zero Coupon U.S. Treasury Index Exchange-Traded Fund', 'Yield to Maturity': '4.45%', 'As of Date': 'As of 04/01/2024'}, {'Ticker': 'BOND', 'Name': 'Active Bond Exchange-Traded Fund', 'Yield to Maturity': '5.65%', 'As of Date': 'As of 04/01/2024'}, {'Ticker': 'MINO', 'Name': 'Municipal Income Opportunities Active Exchange-Traded Fund', 'Yield to Maturity': '4.60%', 'As of Date': 'As of 04/01/2024'}, {'Ticker': 'TIPZ', 'Name': 'Broad U.S. TIPS Index Exchange-Traded Fund', 'Yield to Maturity': '4.70%', 'As of Date': 'As of 04/01/2024'}]\n"
     ]
    },
    {
     "name": "stderr",
     "output_type": "stream",
     "text": [
      " 82%|███████████████████████████████████████████████████████████████████▉               | 9/11 [03:43<00:49, 24.94s/it]"
     ]
    },
    {
     "name": "stdout",
     "output_type": "stream",
     "text": [
      "[{'Ticker': 'LDUR', 'Name': 'Enhanced Low Duration Active Exchange-Traded Fund', 'Yield to Maturity': '5.35%', 'As of Date': 'As of 04/01/2024'}, {'Ticker': 'STPZ', 'Name': '1-5 Year U.S. TIPS Index Exchange-Traded Fund', 'Yield to Maturity': '4.74%', 'As of Date': 'As of 04/01/2024'}, {'Ticker': 'LTPZ', 'Name': '15+ Year U.S. TIPS Index Exchange-Traded Fund', 'Yield to Maturity': '4.72%', 'As of Date': 'As of 04/01/2024'}, {'Ticker': 'ZROZ', 'Name': '25+ Year Zero Coupon U.S. Treasury Index Exchange-Traded Fund', 'Yield to Maturity': '4.45%', 'As of Date': 'As of 04/01/2024'}, {'Ticker': 'BOND', 'Name': 'Active Bond Exchange-Traded Fund', 'Yield to Maturity': '5.65%', 'As of Date': 'As of 04/01/2024'}, {'Ticker': 'MINO', 'Name': 'Municipal Income Opportunities Active Exchange-Traded Fund', 'Yield to Maturity': '4.60%', 'As of Date': 'As of 04/01/2024'}, {'Ticker': 'TIPZ', 'Name': 'Broad U.S. TIPS Index Exchange-Traded Fund', 'Yield to Maturity': '4.70%', 'As of Date': 'As of 04/01/2024'}, {'Ticker': 'SMMU', 'Name': 'Short Term Municipal Bond Active Exchange-Traded Fund', 'Yield to Maturity': '3.86%', 'As of Date': 'As of 04/01/2024'}]\n"
     ]
    },
    {
     "name": "stderr",
     "output_type": "stream",
     "text": [
      " 91%|██████████████████████████████████████████████████████████████████████████▌       | 10/11 [04:02<00:22, 22.90s/it]"
     ]
    },
    {
     "name": "stdout",
     "output_type": "stream",
     "text": [
      "[{'Ticker': 'LDUR', 'Name': 'Enhanced Low Duration Active Exchange-Traded Fund', 'Yield to Maturity': '5.35%', 'As of Date': 'As of 04/01/2024'}, {'Ticker': 'STPZ', 'Name': '1-5 Year U.S. TIPS Index Exchange-Traded Fund', 'Yield to Maturity': '4.74%', 'As of Date': 'As of 04/01/2024'}, {'Ticker': 'LTPZ', 'Name': '15+ Year U.S. TIPS Index Exchange-Traded Fund', 'Yield to Maturity': '4.72%', 'As of Date': 'As of 04/01/2024'}, {'Ticker': 'ZROZ', 'Name': '25+ Year Zero Coupon U.S. Treasury Index Exchange-Traded Fund', 'Yield to Maturity': '4.45%', 'As of Date': 'As of 04/01/2024'}, {'Ticker': 'BOND', 'Name': 'Active Bond Exchange-Traded Fund', 'Yield to Maturity': '5.65%', 'As of Date': 'As of 04/01/2024'}, {'Ticker': 'MINO', 'Name': 'Municipal Income Opportunities Active Exchange-Traded Fund', 'Yield to Maturity': '4.60%', 'As of Date': 'As of 04/01/2024'}, {'Ticker': 'TIPZ', 'Name': 'Broad U.S. TIPS Index Exchange-Traded Fund', 'Yield to Maturity': '4.70%', 'As of Date': 'As of 04/01/2024'}, {'Ticker': 'SMMU', 'Name': 'Short Term Municipal Bond Active Exchange-Traded Fund', 'Yield to Maturity': '3.86%', 'As of Date': 'As of 04/01/2024'}, {'Ticker': 'HYS', 'Name': '0-5 Year High Yield Corporate Bond Index Exchange-Traded Fund', 'Yield to Maturity': '8.03%', 'As of Date': 'As of 04/01/2024'}]\n"
     ]
    },
    {
     "name": "stderr",
     "output_type": "stream",
     "text": [
      "100%|██████████████████████████████████████████████████████████████████████████████████| 11/11 [04:30<00:00, 24.60s/it]"
     ]
    },
    {
     "name": "stdout",
     "output_type": "stream",
     "text": [
      "[{'Ticker': 'LDUR', 'Name': 'Enhanced Low Duration Active Exchange-Traded Fund', 'Yield to Maturity': '5.35%', 'As of Date': 'As of 04/01/2024'}, {'Ticker': 'STPZ', 'Name': '1-5 Year U.S. TIPS Index Exchange-Traded Fund', 'Yield to Maturity': '4.74%', 'As of Date': 'As of 04/01/2024'}, {'Ticker': 'LTPZ', 'Name': '15+ Year U.S. TIPS Index Exchange-Traded Fund', 'Yield to Maturity': '4.72%', 'As of Date': 'As of 04/01/2024'}, {'Ticker': 'ZROZ', 'Name': '25+ Year Zero Coupon U.S. Treasury Index Exchange-Traded Fund', 'Yield to Maturity': '4.45%', 'As of Date': 'As of 04/01/2024'}, {'Ticker': 'BOND', 'Name': 'Active Bond Exchange-Traded Fund', 'Yield to Maturity': '5.65%', 'As of Date': 'As of 04/01/2024'}, {'Ticker': 'MINO', 'Name': 'Municipal Income Opportunities Active Exchange-Traded Fund', 'Yield to Maturity': '4.60%', 'As of Date': 'As of 04/01/2024'}, {'Ticker': 'TIPZ', 'Name': 'Broad U.S. TIPS Index Exchange-Traded Fund', 'Yield to Maturity': '4.70%', 'As of Date': 'As of 04/01/2024'}, {'Ticker': 'SMMU', 'Name': 'Short Term Municipal Bond Active Exchange-Traded Fund', 'Yield to Maturity': '3.86%', 'As of Date': 'As of 04/01/2024'}, {'Ticker': 'HYS', 'Name': '0-5 Year High Yield Corporate Bond Index Exchange-Traded Fund', 'Yield to Maturity': '8.03%', 'As of Date': 'As of 04/01/2024'}, {'Ticker': 'CORP', 'Name': 'Investment Grade Corporate Bond Index Exchange-Traded Fund', 'Yield to Maturity': '5.45%', 'As of Date': 'As of 04/01/2024'}]\n",
      "[{'Ticker': 'LDUR', 'Name': 'Enhanced Low Duration Active Exchange-Traded Fund', 'Yield to Maturity': '5.35%', 'As of Date': 'As of 04/01/2024'}, {'Ticker': 'STPZ', 'Name': '1-5 Year U.S. TIPS Index Exchange-Traded Fund', 'Yield to Maturity': '4.74%', 'As of Date': 'As of 04/01/2024'}, {'Ticker': 'LTPZ', 'Name': '15+ Year U.S. TIPS Index Exchange-Traded Fund', 'Yield to Maturity': '4.72%', 'As of Date': 'As of 04/01/2024'}, {'Ticker': 'ZROZ', 'Name': '25+ Year Zero Coupon U.S. Treasury Index Exchange-Traded Fund', 'Yield to Maturity': '4.45%', 'As of Date': 'As of 04/01/2024'}, {'Ticker': 'BOND', 'Name': 'Active Bond Exchange-Traded Fund', 'Yield to Maturity': '5.65%', 'As of Date': 'As of 04/01/2024'}, {'Ticker': 'MINO', 'Name': 'Municipal Income Opportunities Active Exchange-Traded Fund', 'Yield to Maturity': '4.60%', 'As of Date': 'As of 04/01/2024'}, {'Ticker': 'TIPZ', 'Name': 'Broad U.S. TIPS Index Exchange-Traded Fund', 'Yield to Maturity': '4.70%', 'As of Date': 'As of 04/01/2024'}, {'Ticker': 'SMMU', 'Name': 'Short Term Municipal Bond Active Exchange-Traded Fund', 'Yield to Maturity': '3.86%', 'As of Date': 'As of 04/01/2024'}, {'Ticker': 'HYS', 'Name': '0-5 Year High Yield Corporate Bond Index Exchange-Traded Fund', 'Yield to Maturity': '8.03%', 'As of Date': 'As of 04/01/2024'}, {'Ticker': 'CORP', 'Name': 'Investment Grade Corporate Bond Index Exchange-Traded Fund', 'Yield to Maturity': '5.45%', 'As of Date': 'As of 04/01/2024'}]\n",
      "  Ticker                                               Name Yield to Maturity  \\\n",
      "0   LDUR  Enhanced Low Duration Active Exchange-Traded Fund             5.35%   \n",
      "1   STPZ      1-5 Year U.S. TIPS Index Exchange-Traded Fund             4.74%   \n",
      "2   LTPZ      15+ Year U.S. TIPS Index Exchange-Traded Fund             4.72%   \n",
      "3   ZROZ  25+ Year Zero Coupon U.S. Treasury Index Excha...             4.45%   \n",
      "4   BOND                   Active Bond Exchange-Traded Fund             5.65%   \n",
      "5   MINO  Municipal Income Opportunities Active Exchange...             4.60%   \n",
      "6   TIPZ         Broad U.S. TIPS Index Exchange-Traded Fund             4.70%   \n",
      "7   SMMU  Short Term Municipal Bond Active Exchange-Trad...             3.86%   \n",
      "8    HYS  0-5 Year High Yield Corporate Bond Index Excha...             8.03%   \n",
      "9   CORP  Investment Grade Corporate Bond Index Exchange...             5.45%   \n",
      "\n",
      "         As of Date  \n",
      "0  As of 04/01/2024  \n",
      "1  As of 04/01/2024  \n",
      "2  As of 04/01/2024  \n",
      "3  As of 04/01/2024  \n",
      "4  As of 04/01/2024  \n",
      "5  As of 04/01/2024  \n",
      "6  As of 04/01/2024  \n",
      "7  As of 04/01/2024  \n",
      "8  As of 04/01/2024  \n",
      "9  As of 04/01/2024  \n",
      "Saving PIMCO ETF yield data to CSV file...\n",
      "Done!\n"
     ]
    },
    {
     "name": "stderr",
     "output_type": "stream",
     "text": [
      "\n"
     ]
    },
    {
     "data": {
      "text/html": [
       "<div>\n",
       "<style scoped>\n",
       "    .dataframe tbody tr th:only-of-type {\n",
       "        vertical-align: middle;\n",
       "    }\n",
       "\n",
       "    .dataframe tbody tr th {\n",
       "        vertical-align: top;\n",
       "    }\n",
       "\n",
       "    .dataframe thead th {\n",
       "        text-align: right;\n",
       "    }\n",
       "</style>\n",
       "<table border=\"1\" class=\"dataframe\">\n",
       "  <thead>\n",
       "    <tr style=\"text-align: right;\">\n",
       "      <th></th>\n",
       "      <th>Name</th>\n",
       "      <th>Yield to Maturity</th>\n",
       "      <th>As of Date</th>\n",
       "    </tr>\n",
       "    <tr>\n",
       "      <th>Ticker</th>\n",
       "      <th></th>\n",
       "      <th></th>\n",
       "      <th></th>\n",
       "    </tr>\n",
       "  </thead>\n",
       "  <tbody>\n",
       "    <tr>\n",
       "      <th>LDUR</th>\n",
       "      <td>Enhanced Low Duration Active Exchange-Traded Fund</td>\n",
       "      <td>0.0535</td>\n",
       "      <td>04-01-2024</td>\n",
       "    </tr>\n",
       "    <tr>\n",
       "      <th>STPZ</th>\n",
       "      <td>1-5 Year U.S. TIPS Index Exchange-Traded Fund</td>\n",
       "      <td>0.0474</td>\n",
       "      <td>04-01-2024</td>\n",
       "    </tr>\n",
       "    <tr>\n",
       "      <th>LTPZ</th>\n",
       "      <td>15+ Year U.S. TIPS Index Exchange-Traded Fund</td>\n",
       "      <td>0.0472</td>\n",
       "      <td>04-01-2024</td>\n",
       "    </tr>\n",
       "    <tr>\n",
       "      <th>ZROZ</th>\n",
       "      <td>25+ Year Zero Coupon U.S. Treasury Index Excha...</td>\n",
       "      <td>0.0445</td>\n",
       "      <td>04-01-2024</td>\n",
       "    </tr>\n",
       "    <tr>\n",
       "      <th>BOND</th>\n",
       "      <td>Active Bond Exchange-Traded Fund</td>\n",
       "      <td>0.0565</td>\n",
       "      <td>04-01-2024</td>\n",
       "    </tr>\n",
       "    <tr>\n",
       "      <th>MINO</th>\n",
       "      <td>Municipal Income Opportunities Active Exchange...</td>\n",
       "      <td>0.0460</td>\n",
       "      <td>04-01-2024</td>\n",
       "    </tr>\n",
       "    <tr>\n",
       "      <th>TIPZ</th>\n",
       "      <td>Broad U.S. TIPS Index Exchange-Traded Fund</td>\n",
       "      <td>0.0470</td>\n",
       "      <td>04-01-2024</td>\n",
       "    </tr>\n",
       "    <tr>\n",
       "      <th>SMMU</th>\n",
       "      <td>Short Term Municipal Bond Active Exchange-Trad...</td>\n",
       "      <td>0.0386</td>\n",
       "      <td>04-01-2024</td>\n",
       "    </tr>\n",
       "    <tr>\n",
       "      <th>HYS</th>\n",
       "      <td>0-5 Year High Yield Corporate Bond Index Excha...</td>\n",
       "      <td>0.0803</td>\n",
       "      <td>04-01-2024</td>\n",
       "    </tr>\n",
       "    <tr>\n",
       "      <th>CORP</th>\n",
       "      <td>Investment Grade Corporate Bond Index Exchange...</td>\n",
       "      <td>0.0545</td>\n",
       "      <td>04-01-2024</td>\n",
       "    </tr>\n",
       "  </tbody>\n",
       "</table>\n",
       "</div>"
      ],
      "text/plain": [
       "                                                     Name  Yield to Maturity  \\\n",
       "Ticker                                                                         \n",
       "LDUR    Enhanced Low Duration Active Exchange-Traded Fund             0.0535   \n",
       "STPZ        1-5 Year U.S. TIPS Index Exchange-Traded Fund             0.0474   \n",
       "LTPZ        15+ Year U.S. TIPS Index Exchange-Traded Fund             0.0472   \n",
       "ZROZ    25+ Year Zero Coupon U.S. Treasury Index Excha...             0.0445   \n",
       "BOND                     Active Bond Exchange-Traded Fund             0.0565   \n",
       "MINO    Municipal Income Opportunities Active Exchange...             0.0460   \n",
       "TIPZ           Broad U.S. TIPS Index Exchange-Traded Fund             0.0470   \n",
       "SMMU    Short Term Municipal Bond Active Exchange-Trad...             0.0386   \n",
       "HYS     0-5 Year High Yield Corporate Bond Index Excha...             0.0803   \n",
       "CORP    Investment Grade Corporate Bond Index Exchange...             0.0545   \n",
       "\n",
       "        As of Date  \n",
       "Ticker              \n",
       "LDUR    04-01-2024  \n",
       "STPZ    04-01-2024  \n",
       "LTPZ    04-01-2024  \n",
       "ZROZ    04-01-2024  \n",
       "BOND    04-01-2024  \n",
       "MINO    04-01-2024  \n",
       "TIPZ    04-01-2024  \n",
       "SMMU    04-01-2024  \n",
       "HYS     04-01-2024  \n",
       "CORP    04-01-2024  "
      ]
     },
     "execution_count": 3,
     "metadata": {},
     "output_type": "execute_result"
    }
   ],
   "source": [
    "df = pimco_bot(return_df=True, headless=False)\n",
    "df"
   ]
  },
  {
   "cell_type": "code",
   "execution_count": null,
   "id": "b51d9f41-ba3f-4f88-b68b-ed73c0a0e8e1",
   "metadata": {},
   "outputs": [],
   "source": []
  }
 ],
 "metadata": {
  "kernelspec": {
   "display_name": "Python 3 (ipykernel)",
   "language": "python",
   "name": "python3"
  },
  "language_info": {
   "codemirror_mode": {
    "name": "ipython",
    "version": 3
   },
   "file_extension": ".py",
   "mimetype": "text/x-python",
   "name": "python",
   "nbconvert_exporter": "python",
   "pygments_lexer": "ipython3",
   "version": "3.11.3"
  }
 },
 "nbformat": 4,
 "nbformat_minor": 5
}
