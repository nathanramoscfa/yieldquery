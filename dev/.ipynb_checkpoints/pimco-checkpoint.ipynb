{
 "cells": [
  {
   "cell_type": "code",
   "execution_count": 1,
   "id": "c98237cc-2bdf-405f-a612-9cd4fd901ead",
   "metadata": {},
   "outputs": [],
   "source": [
    "import sys\n",
    "sys.path.insert(0, '..')  # Add the parent directory (project root directory) to the Python path"
   ]
  },
  {
   "cell_type": "code",
   "execution_count": 2,
   "id": "190f342f-de8e-41f1-9ceb-ea4a0772175b",
   "metadata": {},
   "outputs": [],
   "source": [
    "import time\n",
    "import pandas as pd\n",
    "from selenium.webdriver.common.by import By\n",
    "from selenium.webdriver.support.ui import WebDriverWait\n",
    "from selenium.webdriver.support import expected_conditions as EC\n",
    "from selenium.common.exceptions import TimeoutException\n",
    "from selenium.common.exceptions import NoSuchElementException\n",
    "from utils.drivers import setup_driver\n",
    "from tqdm import tqdm\n",
    "\n",
    "def navigate_to_page(driver, url):\n",
    "    driver.get(url)\n",
    "    try:\n",
    "        # Try to find and click the \"ETF Filter Options\" menu\n",
    "        filter_options_selector = '#uc_5_ctl02_filtersPanel > div.fund-select.fund-filter > div.header-fund-medium.no-print > span.filter-expand-collapse.pimcon-round-button-white.collapsed > span'\n",
    "        filter_options = WebDriverWait(driver, 20).until(\n",
    "            EC.presence_of_element_located((By.CSS_SELECTOR, filter_options_selector)))\n",
    "        filter_options.click()\n",
    "        # Wait for the redirection to complete\n",
    "        time.sleep(5)\n",
    "\n",
    "        # Try to find and click the \"Sector\" menu\n",
    "        sector_selector = '#uc_5_ctl02_sectorFilter > div.header-choosen > i.icomoon.icon-arrow-down10'\n",
    "        sector_options = WebDriverWait(driver, 20).until(EC.presence_of_element_located((By.CSS_SELECTOR, sector_selector)))\n",
    "        sector_options.click()\n",
    "\n",
    "        # Select sectors to filter by\n",
    "        us_treasury_selector = '#uc_5_ctl02_sectorFilter > div.content-choosen.sectors-choosen > div > div.mutil-choosen > div:nth-child(1) > div > span'\n",
    "        us_treasury_filter = WebDriverWait(driver, 20).until(\n",
    "            EC.presence_of_element_located((By.CSS_SELECTOR, us_treasury_selector)))\n",
    "        us_treasury_filter.click()\n",
    "        \n",
    "        us_tips_selector = '#uc_5_ctl02_sectorFilter > div.content-choosen.sectors-choosen > div > div.mutil-choosen > div:nth-child(2) > div > span'\n",
    "        us_tips_filter = WebDriverWait(driver, 20).until(\n",
    "            EC.presence_of_element_located((By.CSS_SELECTOR, us_tips_selector)))\n",
    "        us_tips_filter.click()\n",
    "        \n",
    "        municipal_selector = '#uc_5_ctl02_sectorFilter > div.content-choosen.sectors-choosen > div > div.mutil-choosen > div:nth-child(3) > div > span'\n",
    "        municipal_filter = WebDriverWait(driver, 20).until(\n",
    "            EC.presence_of_element_located((By.CSS_SELECTOR, municipal_selector)))\n",
    "        municipal_filter.click()\n",
    "        \n",
    "        credit_selector = '#uc_5_ctl02_sectorFilter > div.content-choosen.sectors-choosen > div > div.mutil-choosen > div:nth-child(5) > div > span'\n",
    "        credit_filter = WebDriverWait(driver, 20).until(\n",
    "            EC.presence_of_element_located((By.CSS_SELECTOR, credit_selector)))\n",
    "        credit_filter.click()\n",
    "        \n",
    "        core_fixed_income_selector = '#uc_5_ctl02_sectorFilter > div.content-choosen.sectors-choosen > div > div.mutil-choosen > div:nth-child(6) > div > span'\n",
    "        core_fixed_income_filter = WebDriverWait(driver, 20).until(\n",
    "            EC.presence_of_element_located((By.CSS_SELECTOR, core_fixed_income_selector)))\n",
    "        core_fixed_income_filter.click()\n",
    "\n",
    "        # Add delay and then redirect back to the target page\n",
    "        time.sleep(10)\n",
    "        # driver.get(url)\n",
    "\n",
    "    except NoSuchElementException:\n",
    "        # Ignore if the elements are not found\n",
    "        pass\n",
    "    \n",
    "def get_links(driver):\n",
    "    links = set()\n",
    "\n",
    "    # Initial height\n",
    "    last_height = driver.execute_script(\"return document.body.scrollHeight\")\n",
    "\n",
    "    while True:\n",
    "        # Gather the links\n",
    "        link_elements = driver.find_elements(By.CSS_SELECTOR, 'tr > td.name.excel > p > a')\n",
    "        for elem in link_elements:\n",
    "            link = elem.get_attribute('href')\n",
    "            if link is not None:\n",
    "                links.add(link)\n",
    "\n",
    "        # Scroll down by chunk\n",
    "        driver.execute_script(\"window.scrollBy(0, 800);\")  # Adjust this value according to your needs\n",
    "        time.sleep(2)  # Adjust this value according to your internet speed or webpage's response time\n",
    "\n",
    "        # Calculate new scroll height and compare with last scroll height\n",
    "        new_height = driver.execute_script(\"return document.body.scrollHeight\")\n",
    "        if new_height == last_height:  # If heights are the same it will exit the function\n",
    "            break\n",
    "        last_height = new_height\n",
    "\n",
    "    return list(links)  # Return the links as a list\n",
    "\n",
    "def extract_etf_info(driver, url):\n",
    "    # Navigate to the url\n",
    "    driver.get(url)\n",
    "\n",
    "    # Scroll down about 10% of the webpage\n",
    "    scroll_height = driver.execute_script(\"return document.body.scrollHeight\")\n",
    "    driver.execute_script(f\"window.scrollTo(0, {scroll_height * 0.05});\")\n",
    "    time.sleep(2)  # delay to allow the page to load\n",
    "\n",
    "    # Check for the pop-up\n",
    "    try:\n",
    "        WebDriverWait(driver, 20).until(EC.presence_of_element_located((By.CSS_SELECTOR, '#SplashPage1 > section > div > div.listOfRoles > ul > li:nth-child(1) > label')))\n",
    "        financial_advisor_button = driver.find_element(By.CSS_SELECTOR, '#SplashPage1 > section > div > div.listOfRoles > ul > li:nth-child(1) > label')\n",
    "        financial_advisor_button.click()\n",
    "    except (NoSuchElementException, TimeoutException):\n",
    "        # Ignore if the pop-up is not found\n",
    "        pass\n",
    "\n",
    "    try:\n",
    "        # First try with the usual CSS selector\n",
    "        WebDriverWait(driver, 20).until(EC.presence_of_element_located((By.CSS_SELECTOR,\n",
    "            '#pageWrapper > section:nth-child(2) > div:nth-child(19) > div.row > div > div > div')))\n",
    "        yield_to_maturity = driver.find_element(By.CSS_SELECTOR,\n",
    "            '#pageWrapper > section:nth-child(2) > div:nth-child(19) > div.row > div > div > div > div > div:nth-child(4) > div.datapoint').text\n",
    "    except NoSuchElementException:\n",
    "        # If the usual CSS selector fails, try the second CSS selector\n",
    "        try:\n",
    "            WebDriverWait(driver, 20).until(EC.presence_of_element_located((By.CSS_SELECTOR,\n",
    "                '#pageWrapper > section:nth-child(2) > div:nth-child(20) > div.row > div > div > div')))\n",
    "            yield_to_maturity = driver.find_element(By.CSS_SELECTOR,\n",
    "                '#pageWrapper > section:nth-child(2) > div:nth-child(20) > div.row > div > div > div > div > div:nth-child(4) > div.datapoint').text\n",
    "        except NoSuchElementException:\n",
    "            return None  # Returns None if yield_to_maturity is not present, which leads to skipping this ETF\n",
    "    except TimeoutException:\n",
    "        # If it takes too long to find an element\n",
    "        return None\n",
    "\n",
    "    # Extract the info\n",
    "    name = WebDriverWait(driver, 20).until(EC.presence_of_element_located((By.CSS_SELECTOR, '#etf-header > div.container > div.etf-title-row > div.etf-name'))).text\n",
    "    print(name)\n",
    "    as_of_date = WebDriverWait(driver, 20).until(EC.presence_of_element_located((By.CSS_SELECTOR,\n",
    "                                     '#pageWrapper > section:nth-child(2) > div:nth-child(19) > div.row > div > div > div > div > div:nth-child(4) > div.as-of-date'))).text\n",
    "    ticker = WebDriverWait(driver, 20).until(EC.presence_of_element_located((By.CSS_SELECTOR,\n",
    "                                 '#etf-header > div.container > div.etf-title-row > h1'))).text\n",
    "\n",
    "    return {\"Ticker\": ticker, \"Name\": name, \"Yield to Maturity\": yield_to_maturity, \"As of Date\": as_of_date}\n",
    "\n",
    "def get_etf_data(driver, links):\n",
    "    # Get data for all ETFs\n",
    "    data = []\n",
    "    for link in tqdm(links):\n",
    "        etf_data = extract_etf_info(driver, link)\n",
    "\n",
    "        # Only add the etf_data to the list if it's not None\n",
    "        if etf_data is not None:\n",
    "            data.append(etf_data)\n",
    "\n",
    "    # Convert data list to a pandas DataFrame\n",
    "    df = pd.DataFrame(data)\n",
    "\n",
    "    # Set 'ticker' as index\n",
    "    df.set_index('Ticker', inplace=True)\n",
    "\n",
    "    # Convert 'yield_to_maturity' to a numeric value\n",
    "    df['Yield to Maturity'] = df['Yield to Maturity'].str.rstrip('%').astype('float') / 100.0\n",
    "\n",
    "    # Convert 'as_of_date' to datetime\n",
    "    df['As of Date'] = df['As of Date'].str.replace('as of ', '', case=False)\n",
    "    df['As of Date'] = pd.to_datetime(df['As of Date'], format=\"%m/%d/%Y\")\n",
    "    df['As of Date'] = df['As of Date'].dt.strftime('%m-%d-%Y')\n",
    "\n",
    "    return df"
   ]
  },
  {
   "cell_type": "code",
   "execution_count": 3,
   "id": "fd7c98e3-97b1-4ad5-ad17-bf738d6a6b2f",
   "metadata": {},
   "outputs": [
    {
     "data": {
      "text/plain": [
       "'#pageWrapper > section:nth-child(2) > div:nth-child(20) > div.row > div > div > div > div > div:nth-child(4) > div.as-of-date'"
      ]
     },
     "execution_count": 3,
     "metadata": {},
     "output_type": "execute_result"
    }
   ],
   "source": [
    "'#pageWrapper > section:nth-child(2) > div:nth-child(20) > div.row > div > div > div > div > div:nth-child(4) > div.as-of-date'"
   ]
  },
  {
   "cell_type": "code",
   "execution_count": 4,
   "id": "f5b94526-d7d6-4365-9a18-4a0caad06871",
   "metadata": {
    "tags": []
   },
   "outputs": [
    {
     "name": "stderr",
     "output_type": "stream",
     "text": [
      " 27%|██████████████████████▋                                                            | 3/11 [02:44<07:21, 55.24s/it]"
     ]
    },
    {
     "name": "stdout",
     "output_type": "stream",
     "text": [
      "Broad U.S. TIPS Index Exchange-Traded Fund\n"
     ]
    },
    {
     "name": "stderr",
     "output_type": "stream",
     "text": [
      " 27%|██████████████████████▋                                                            | 3/11 [03:33<09:30, 71.26s/it]\n"
     ]
    },
    {
     "ename": "TimeoutException",
     "evalue": "Message: \nStacktrace:\nBacktrace:\n\tGetHandleVerifier [0x00B8A813+48355]\n\t(No symbol) [0x00B1C4B1]\n\t(No symbol) [0x00A25358]\n\t(No symbol) [0x00A509A5]\n\t(No symbol) [0x00A50B3B]\n\t(No symbol) [0x00A7E232]\n\t(No symbol) [0x00A6A784]\n\t(No symbol) [0x00A7C922]\n\t(No symbol) [0x00A6A536]\n\t(No symbol) [0x00A482DC]\n\t(No symbol) [0x00A493DD]\n\tGetHandleVerifier [0x00DEAABD+2539405]\n\tGetHandleVerifier [0x00E2A78F+2800735]\n\tGetHandleVerifier [0x00E2456C+2775612]\n\tGetHandleVerifier [0x00C151E0+616112]\n\t(No symbol) [0x00B25F8C]\n\t(No symbol) [0x00B22328]\n\t(No symbol) [0x00B2240B]\n\t(No symbol) [0x00B14FF7]\n\tBaseThreadInitThunk [0x76947D59+25]\n\tRtlInitializeExceptionChain [0x77C1B74B+107]\n\tRtlClearBits [0x77C1B6CF+191]\n",
     "output_type": "error",
     "traceback": [
      "\u001b[1;31m---------------------------------------------------------------------------\u001b[0m",
      "\u001b[1;31mTimeoutException\u001b[0m                          Traceback (most recent call last)",
      "Cell \u001b[1;32mIn[4], line 5\u001b[0m\n\u001b[0;32m      3\u001b[0m navigate_to_page(driver, url)\n\u001b[0;32m      4\u001b[0m links \u001b[38;5;241m=\u001b[39m get_links(driver)\n\u001b[1;32m----> 5\u001b[0m df \u001b[38;5;241m=\u001b[39m \u001b[43mget_etf_data\u001b[49m\u001b[43m(\u001b[49m\u001b[43mdriver\u001b[49m\u001b[43m,\u001b[49m\u001b[43m \u001b[49m\u001b[43mlinks\u001b[49m\u001b[43m)\u001b[49m\n",
      "Cell \u001b[1;32mIn[2], line 138\u001b[0m, in \u001b[0;36mget_etf_data\u001b[1;34m(driver, links)\u001b[0m\n\u001b[0;32m    136\u001b[0m data \u001b[38;5;241m=\u001b[39m []\n\u001b[0;32m    137\u001b[0m \u001b[38;5;28;01mfor\u001b[39;00m link \u001b[38;5;129;01min\u001b[39;00m tqdm(links):\n\u001b[1;32m--> 138\u001b[0m     etf_data \u001b[38;5;241m=\u001b[39m \u001b[43mextract_etf_info\u001b[49m\u001b[43m(\u001b[49m\u001b[43mdriver\u001b[49m\u001b[43m,\u001b[49m\u001b[43m \u001b[49m\u001b[43mlink\u001b[49m\u001b[43m)\u001b[49m\n\u001b[0;32m    140\u001b[0m     \u001b[38;5;66;03m# Only add the etf_data to the list if it's not None\u001b[39;00m\n\u001b[0;32m    141\u001b[0m     \u001b[38;5;28;01mif\u001b[39;00m etf_data \u001b[38;5;129;01mis\u001b[39;00m \u001b[38;5;129;01mnot\u001b[39;00m \u001b[38;5;28;01mNone\u001b[39;00m:\n",
      "Cell \u001b[1;32mIn[2], line 127\u001b[0m, in \u001b[0;36mextract_etf_info\u001b[1;34m(driver, url)\u001b[0m\n\u001b[0;32m    125\u001b[0m name \u001b[38;5;241m=\u001b[39m WebDriverWait(driver, \u001b[38;5;241m20\u001b[39m)\u001b[38;5;241m.\u001b[39muntil(EC\u001b[38;5;241m.\u001b[39mpresence_of_element_located((By\u001b[38;5;241m.\u001b[39mCSS_SELECTOR, \u001b[38;5;124m'\u001b[39m\u001b[38;5;124m#etf-header > div.container > div.etf-title-row > div.etf-name\u001b[39m\u001b[38;5;124m'\u001b[39m)))\u001b[38;5;241m.\u001b[39mtext\n\u001b[0;32m    126\u001b[0m \u001b[38;5;28mprint\u001b[39m(name)\n\u001b[1;32m--> 127\u001b[0m as_of_date \u001b[38;5;241m=\u001b[39m \u001b[43mWebDriverWait\u001b[49m\u001b[43m(\u001b[49m\u001b[43mdriver\u001b[49m\u001b[43m,\u001b[49m\u001b[43m \u001b[49m\u001b[38;5;241;43m20\u001b[39;49m\u001b[43m)\u001b[49m\u001b[38;5;241;43m.\u001b[39;49m\u001b[43muntil\u001b[49m\u001b[43m(\u001b[49m\u001b[43mEC\u001b[49m\u001b[38;5;241;43m.\u001b[39;49m\u001b[43mpresence_of_element_located\u001b[49m\u001b[43m(\u001b[49m\u001b[43m(\u001b[49m\u001b[43mBy\u001b[49m\u001b[38;5;241;43m.\u001b[39;49m\u001b[43mCSS_SELECTOR\u001b[49m\u001b[43m,\u001b[49m\n\u001b[0;32m    128\u001b[0m \u001b[43m                                 \u001b[49m\u001b[38;5;124;43m'\u001b[39;49m\u001b[38;5;124;43m#pageWrapper > section:nth-child(2) > div:nth-child(19) > div.row > div > div > div > div > div:nth-child(4) > div.as-of-date\u001b[39;49m\u001b[38;5;124;43m'\u001b[39;49m\u001b[43m)\u001b[49m\u001b[43m)\u001b[49m\u001b[43m)\u001b[49m\u001b[38;5;241m.\u001b[39mtext\n\u001b[0;32m    129\u001b[0m ticker \u001b[38;5;241m=\u001b[39m WebDriverWait(driver, \u001b[38;5;241m20\u001b[39m)\u001b[38;5;241m.\u001b[39muntil(EC\u001b[38;5;241m.\u001b[39mpresence_of_element_located((By\u001b[38;5;241m.\u001b[39mCSS_SELECTOR,\n\u001b[0;32m    130\u001b[0m                              \u001b[38;5;124m'\u001b[39m\u001b[38;5;124m#etf-header > div.container > div.etf-title-row > h1\u001b[39m\u001b[38;5;124m'\u001b[39m)))\u001b[38;5;241m.\u001b[39mtext\n\u001b[0;32m    132\u001b[0m \u001b[38;5;28;01mreturn\u001b[39;00m {\u001b[38;5;124m\"\u001b[39m\u001b[38;5;124mTicker\u001b[39m\u001b[38;5;124m\"\u001b[39m: ticker, \u001b[38;5;124m\"\u001b[39m\u001b[38;5;124mName\u001b[39m\u001b[38;5;124m\"\u001b[39m: name, \u001b[38;5;124m\"\u001b[39m\u001b[38;5;124mYield to Maturity\u001b[39m\u001b[38;5;124m\"\u001b[39m: yield_to_maturity, \u001b[38;5;124m\"\u001b[39m\u001b[38;5;124mAs of Date\u001b[39m\u001b[38;5;124m\"\u001b[39m: as_of_date}\n",
      "File \u001b[1;32m~\\anaconda3\\envs\\nrcapital\\Lib\\site-packages\\selenium\\webdriver\\support\\wait.py:95\u001b[0m, in \u001b[0;36mWebDriverWait.until\u001b[1;34m(self, method, message)\u001b[0m\n\u001b[0;32m     93\u001b[0m     \u001b[38;5;28;01mif\u001b[39;00m time\u001b[38;5;241m.\u001b[39mmonotonic() \u001b[38;5;241m>\u001b[39m end_time:\n\u001b[0;32m     94\u001b[0m         \u001b[38;5;28;01mbreak\u001b[39;00m\n\u001b[1;32m---> 95\u001b[0m \u001b[38;5;28;01mraise\u001b[39;00m TimeoutException(message, screen, stacktrace)\n",
      "\u001b[1;31mTimeoutException\u001b[0m: Message: \nStacktrace:\nBacktrace:\n\tGetHandleVerifier [0x00B8A813+48355]\n\t(No symbol) [0x00B1C4B1]\n\t(No symbol) [0x00A25358]\n\t(No symbol) [0x00A509A5]\n\t(No symbol) [0x00A50B3B]\n\t(No symbol) [0x00A7E232]\n\t(No symbol) [0x00A6A784]\n\t(No symbol) [0x00A7C922]\n\t(No symbol) [0x00A6A536]\n\t(No symbol) [0x00A482DC]\n\t(No symbol) [0x00A493DD]\n\tGetHandleVerifier [0x00DEAABD+2539405]\n\tGetHandleVerifier [0x00E2A78F+2800735]\n\tGetHandleVerifier [0x00E2456C+2775612]\n\tGetHandleVerifier [0x00C151E0+616112]\n\t(No symbol) [0x00B25F8C]\n\t(No symbol) [0x00B22328]\n\t(No symbol) [0x00B2240B]\n\t(No symbol) [0x00B14FF7]\n\tBaseThreadInitThunk [0x76947D59+25]\n\tRtlInitializeExceptionChain [0x77C1B74B+107]\n\tRtlClearBits [0x77C1B6CF+191]\n"
     ]
    }
   ],
   "source": [
    "url = 'https://www.pimco.com/en-us/investments/etf'\n",
    "driver = setup_driver(headless=False)\n",
    "navigate_to_page(driver, url)\n",
    "links = get_links(driver)\n",
    "df = get_etf_data(driver, links)"
   ]
  },
  {
   "cell_type": "code",
   "execution_count": 5,
   "id": "95da0f2b-782a-426a-be93-349636ae1b40",
   "metadata": {
    "tags": []
   },
   "outputs": [
    {
     "data": {
      "text/plain": [
       "['https://www.pimco.com/en-us/investments/etf/municipal-income-opportunities-active-exchange-traded-fund',\n",
       " 'https://www.pimco.com/en-us/investments/etf/15-year-us-tips-index-exchange-traded-fund',\n",
       " 'https://www.pimco.com/en-us/investments/etf/1-5-year-us-tips-index-exchange-traded-fund',\n",
       " 'https://www.pimco.com/en-us/investments/etf/broad-us-tips-index-exchange-traded-fund',\n",
       " 'https://www.pimco.com/en-us/investments/etf/intermediate-municipal-bond-active-exchange-traded-fund',\n",
       " 'https://www.pimco.com/en-us/investments/etf/short-term-municipal-bond-active-exchange-traded-fund',\n",
       " 'https://www.pimco.com/en-us/investments/etf/25-year-zero-coupon-us-treasury-index-exchange-traded-fund',\n",
       " 'https://www.pimco.com/en-us/investments/etf/0-5-year-high-yield-corporate-bond-index-exchange-traded-fund',\n",
       " 'https://www.pimco.com/en-us/investments/etf/enhanced-low-duration-active-exchange-traded-fund',\n",
       " 'https://www.pimco.com/en-us/investments/etf/investment-grade-corporate-bond-index-exchange-traded-fund',\n",
       " 'https://www.pimco.com/en-us/investments/etf/active-bond-exchange-traded-fund']"
      ]
     },
     "execution_count": 5,
     "metadata": {},
     "output_type": "execute_result"
    }
   ],
   "source": [
    "links"
   ]
  },
  {
   "cell_type": "code",
   "execution_count": null,
   "id": "b82e13fb-20ac-4729-a581-2b180ca23052",
   "metadata": {},
   "outputs": [],
   "source": []
  }
 ],
 "metadata": {
  "kernelspec": {
   "display_name": "Python 3 (ipykernel)",
   "language": "python",
   "name": "python3"
  },
  "language_info": {
   "codemirror_mode": {
    "name": "ipython",
    "version": 3
   },
   "file_extension": ".py",
   "mimetype": "text/x-python",
   "name": "python",
   "nbconvert_exporter": "python",
   "pygments_lexer": "ipython3",
   "version": "3.11.3"
  }
 },
 "nbformat": 4,
 "nbformat_minor": 5
}
