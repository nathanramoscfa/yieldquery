{
 "cells": [
  {
   "cell_type": "code",
   "execution_count": 1,
   "id": "649a0459-4ccd-4d3b-b2b8-9b2f32d2a6af",
   "metadata": {},
   "outputs": [],
   "source": [
    "from selenium import webdriver\n",
    "from selenium.webdriver.chrome.service import Service\n",
    "from selenium.webdriver.common.by import By\n",
    "from selenium.webdriver.common.action_chains import ActionChains\n",
    "from selenium.webdriver.chrome.options import Options\n",
    "from selenium.webdriver.support.ui import WebDriverWait\n",
    "from selenium.webdriver.support import expected_conditions as EC\n",
    "import time\n",
    "import os"
   ]
  },
  {
   "cell_type": "code",
   "execution_count": 2,
   "id": "4d02ab1a-89ad-4f6f-bb98-fd667b2a93a5",
   "metadata": {},
   "outputs": [],
   "source": [
    "def download_xls():\n",
    "    # Prepare Chrome options. Headless mode means the browser is run in the background\n",
    "    webdriver_options = Options()\n",
    "    webdriver_options.add_argument('--headless')\n",
    "\n",
    "    # Path to the chromedriver executable\n",
    "    webdriver_service = Service('C:\\WebDriver\\bin\\chromedriver.exe')\n",
    "\n",
    "    # Create a new instance of the Chrome driver\n",
    "    driver = webdriver.Chrome(service=webdriver_service, options=webdriver_options)\n",
    "\n",
    "    # Go to the webpage\n",
    "    etf_list_url = 'https://www.ishares.com/us/products/etf-investments#/?productView=etf&fac=43549%7C43563%7C43566%7C43567' \\\n",
    "                          '%7C43573%7C43588%7C43590%7C43775%7C60556&pageNumber=1&sortColumn=totalNetAssets' \\\n",
    "                          '&sortDirection=desc&dataView=keyFacts'\n",
    "    driver.get(etf_list_url)\n",
    "\n",
    "    # Wait for the DOWNLOAD button to become clickable\n",
    "    wait = WebDriverWait(driver, 10)  # wait for up to 10 seconds\n",
    "    download_button = wait.until(EC.element_to_be_clickable((By.CSS_SELECTOR, '#c1612780367522 > div > product-screener > screener-main > screener-control-bar > div > screener-download-funds > button')))\n",
    "    ActionChains(driver).move_to_element(download_button).click(download_button).perform()\n",
    "\n",
    "    # Find the \"DOWNLOAD FILTERED FUNDS (XLS)\" button within the dropdown menu and click it\n",
    "    download_xls_button = wait.until(EC.element_to_be_clickable((By.CSS_SELECTOR, '#mat-menu-panel-0 > div > button:nth-child(2)')))\n",
    "    ActionChains(driver).move_to_element(download_xls_button).click(download_xls_button).perform()\n",
    "\n",
    "    # We need to wait for the file to be downloaded. This delay depends on your internet speed.\n",
    "    time.sleep(10)\n",
    "\n",
    "    # Close the browser\n",
    "    driver.quit()"
   ]
  },
  {
   "cell_type": "code",
   "execution_count": 3,
   "id": "a919349f-56d8-4e7a-89e2-aebfa89b8944",
   "metadata": {
    "tags": []
   },
   "outputs": [
    {
     "ename": "TimeoutException",
     "evalue": "Message: \nStacktrace:\nBacktrace:\n\tGetHandleVerifier [0x00A9A813+48355]\n\t(No symbol) [0x00A2C4B1]\n\t(No symbol) [0x00935358]\n\t(No symbol) [0x009609A5]\n\t(No symbol) [0x00960B3B]\n\t(No symbol) [0x0098E232]\n\t(No symbol) [0x0097A784]\n\t(No symbol) [0x0098C922]\n\t(No symbol) [0x0097A536]\n\t(No symbol) [0x009582DC]\n\t(No symbol) [0x009593DD]\n\tGetHandleVerifier [0x00CFAABD+2539405]\n\tGetHandleVerifier [0x00D3A78F+2800735]\n\tGetHandleVerifier [0x00D3456C+2775612]\n\tGetHandleVerifier [0x00B251E0+616112]\n\t(No symbol) [0x00A35F8C]\n\t(No symbol) [0x00A32328]\n\t(No symbol) [0x00A3240B]\n\t(No symbol) [0x00A24FF7]\n\tBaseThreadInitThunk [0x76187D59+25]\n\tRtlInitializeExceptionChain [0x777EB74B+107]\n\tRtlClearBits [0x777EB6CF+191]\n",
     "output_type": "error",
     "traceback": [
      "\u001b[1;31m---------------------------------------------------------------------------\u001b[0m",
      "\u001b[1;31mTimeoutException\u001b[0m                          Traceback (most recent call last)",
      "Cell \u001b[1;32mIn[3], line 1\u001b[0m\n\u001b[1;32m----> 1\u001b[0m \u001b[43mdownload_xls\u001b[49m\u001b[43m(\u001b[49m\u001b[43m)\u001b[49m\n",
      "Cell \u001b[1;32mIn[2], line 24\u001b[0m, in \u001b[0;36mdownload_xls\u001b[1;34m()\u001b[0m\n\u001b[0;32m     21\u001b[0m ActionChains(driver)\u001b[38;5;241m.\u001b[39mmove_to_element(download_button)\u001b[38;5;241m.\u001b[39mclick(download_button)\u001b[38;5;241m.\u001b[39mperform()\n\u001b[0;32m     23\u001b[0m \u001b[38;5;66;03m# Find the \"DOWNLOAD FILTERED FUNDS (XLS)\" button within the dropdown menu and click it\u001b[39;00m\n\u001b[1;32m---> 24\u001b[0m download_xls_button \u001b[38;5;241m=\u001b[39m \u001b[43mwait\u001b[49m\u001b[38;5;241;43m.\u001b[39;49m\u001b[43muntil\u001b[49m\u001b[43m(\u001b[49m\u001b[43mEC\u001b[49m\u001b[38;5;241;43m.\u001b[39;49m\u001b[43melement_to_be_clickable\u001b[49m\u001b[43m(\u001b[49m\u001b[43m(\u001b[49m\u001b[43mBy\u001b[49m\u001b[38;5;241;43m.\u001b[39;49m\u001b[43mCSS_SELECTOR\u001b[49m\u001b[43m,\u001b[49m\u001b[43m \u001b[49m\u001b[38;5;124;43m'\u001b[39;49m\u001b[38;5;124;43m#mat-menu-panel-0 > div > button:nth-child(2)\u001b[39;49m\u001b[38;5;124;43m'\u001b[39;49m\u001b[43m)\u001b[49m\u001b[43m)\u001b[49m\u001b[43m)\u001b[49m\n\u001b[0;32m     25\u001b[0m ActionChains(driver)\u001b[38;5;241m.\u001b[39mmove_to_element(download_xls_button)\u001b[38;5;241m.\u001b[39mclick(download_xls_button)\u001b[38;5;241m.\u001b[39mperform()\n\u001b[0;32m     27\u001b[0m \u001b[38;5;66;03m# We need to wait for the file to be downloaded. This delay depends on your internet speed.\u001b[39;00m\n",
      "File \u001b[1;32m~\\anaconda3\\envs\\nrcapital\\Lib\\site-packages\\selenium\\webdriver\\support\\wait.py:95\u001b[0m, in \u001b[0;36mWebDriverWait.until\u001b[1;34m(self, method, message)\u001b[0m\n\u001b[0;32m     93\u001b[0m     \u001b[38;5;28;01mif\u001b[39;00m time\u001b[38;5;241m.\u001b[39mmonotonic() \u001b[38;5;241m>\u001b[39m end_time:\n\u001b[0;32m     94\u001b[0m         \u001b[38;5;28;01mbreak\u001b[39;00m\n\u001b[1;32m---> 95\u001b[0m \u001b[38;5;28;01mraise\u001b[39;00m TimeoutException(message, screen, stacktrace)\n",
      "\u001b[1;31mTimeoutException\u001b[0m: Message: \nStacktrace:\nBacktrace:\n\tGetHandleVerifier [0x00A9A813+48355]\n\t(No symbol) [0x00A2C4B1]\n\t(No symbol) [0x00935358]\n\t(No symbol) [0x009609A5]\n\t(No symbol) [0x00960B3B]\n\t(No symbol) [0x0098E232]\n\t(No symbol) [0x0097A784]\n\t(No symbol) [0x0098C922]\n\t(No symbol) [0x0097A536]\n\t(No symbol) [0x009582DC]\n\t(No symbol) [0x009593DD]\n\tGetHandleVerifier [0x00CFAABD+2539405]\n\tGetHandleVerifier [0x00D3A78F+2800735]\n\tGetHandleVerifier [0x00D3456C+2775612]\n\tGetHandleVerifier [0x00B251E0+616112]\n\t(No symbol) [0x00A35F8C]\n\t(No symbol) [0x00A32328]\n\t(No symbol) [0x00A3240B]\n\t(No symbol) [0x00A24FF7]\n\tBaseThreadInitThunk [0x76187D59+25]\n\tRtlInitializeExceptionChain [0x777EB74B+107]\n\tRtlClearBits [0x777EB6CF+191]\n"
     ]
    }
   ],
   "source": [
    "download_xls()"
   ]
  },
  {
   "cell_type": "code",
   "execution_count": null,
   "id": "4c78c1f4-b573-4256-84ea-5448edef0a90",
   "metadata": {
    "tags": []
   },
   "outputs": [],
   "source": [
    "def move_and_load_xls():\n",
    "    # Get list of all files from the download directory\n",
    "    files = os.listdir(os.path.expanduser('~/Downloads'))\n",
    "    # Find the latest downloaded xls file\n",
    "    xls_file = max([f for f in files if f.endswith('.xls')], key=lambda x : os.path.getctime(os.path.join(os.path.expanduser('~/Downloads'), x)))\n",
    "\n",
    "    # Define old and new location\n",
    "    old_file_location = os.path.join(os.path.expanduser('~/Downloads'), xls_file)\n",
    "    new_file_location = os.path.join('data/downloads', xls_file)\n",
    "\n",
    "    # Move the file to the new location\n",
    "    os.replace(old_file_location, new_file_location)\n",
    "\n",
    "    # Load the data into a pandas DataFrame, skipping the first row\n",
    "    data = pd.read_excel(new_file_location, skiprows=[0])\n",
    "\n",
    "    # Return the DataFrame\n",
    "    return data"
   ]
  },
  {
   "cell_type": "code",
   "execution_count": null,
   "id": "ee789a9e-8682-40d1-b747-cdfbc31bc92b",
   "metadata": {
    "tags": []
   },
   "outputs": [],
   "source": [
    "move_and_load_xls()"
   ]
  }
 ],
 "metadata": {
  "kernelspec": {
   "display_name": "Python 3 (ipykernel)",
   "language": "python",
   "name": "python3"
  },
  "language_info": {
   "codemirror_mode": {
    "name": "ipython",
    "version": 3
   },
   "file_extension": ".py",
   "mimetype": "text/x-python",
   "name": "python",
   "nbconvert_exporter": "python",
   "pygments_lexer": "ipython3",
   "version": "3.11.3"
  }
 },
 "nbformat": 4,
 "nbformat_minor": 5
}
