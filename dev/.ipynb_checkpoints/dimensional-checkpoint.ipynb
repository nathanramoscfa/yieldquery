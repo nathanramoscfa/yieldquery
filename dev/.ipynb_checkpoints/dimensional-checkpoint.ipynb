{
 "cells": [
  {
   "cell_type": "code",
   "execution_count": 1,
   "id": "bf6a37ae-9762-4e2b-a5d3-6640473f5f7a",
   "metadata": {},
   "outputs": [],
   "source": [
    "import sys\n",
    "sys.path.insert(0, '..')  # Add the parent directory (project root directory) to the Python path"
   ]
  },
  {
   "cell_type": "code",
   "execution_count": 2,
   "id": "a6b5975e-a63c-416e-be03-d23a60c9bfe4",
   "metadata": {
    "tags": []
   },
   "outputs": [
    {
     "name": "stdout",
     "output_type": "stream",
     "text": [
      "Downloading Dimensional ETF yield data...\n"
     ]
    },
    {
     "name": "stderr",
     "output_type": "stream",
     "text": [
      "  0%|                                                                                           | 0/10 [00:00<?, ?it/s]"
     ]
    },
    {
     "name": "stdout",
     "output_type": "stream",
     "text": [
      "TimeoutException encountered for https://www.dimensional.com/us-en/funds/dfca/california-municipal-bond-etf. Skipping to next link.\n"
     ]
    },
    {
     "name": "stderr",
     "output_type": "stream",
     "text": [
      " 10%|████████▎                                                                          | 1/10 [00:24<03:36, 24.09s/it]"
     ]
    },
    {
     "name": "stdout",
     "output_type": "stream",
     "text": [
      "TimeoutException encountered for https://www.dimensional.com/us-en/funds/dfcf/core-fixed-income-etf. Skipping to next link.\n"
     ]
    },
    {
     "name": "stderr",
     "output_type": "stream",
     "text": [
      " 20%|████████████████▌                                                                  | 2/10 [00:48<03:16, 24.53s/it]"
     ]
    },
    {
     "name": "stdout",
     "output_type": "stream",
     "text": [
      "TimeoutException encountered for https://www.dimensional.com/us-en/funds/dfgp/global-core-plus-fixed-income-etf. Skipping to next link.\n"
     ]
    },
    {
     "name": "stderr",
     "output_type": "stream",
     "text": [
      " 30%|████████████████████████▉                                                          | 3/10 [01:13<02:51, 24.46s/it]"
     ]
    },
    {
     "name": "stdout",
     "output_type": "stream",
     "text": [
      "TimeoutException encountered for https://www.dimensional.com/us-en/funds/dgcb/global-credit-etf. Skipping to next link.\n"
     ]
    },
    {
     "name": "stderr",
     "output_type": "stream",
     "text": [
      " 40%|█████████████████████████████████▏                                                 | 4/10 [01:37<02:25, 24.24s/it]"
     ]
    },
    {
     "name": "stdout",
     "output_type": "stream",
     "text": [
      "TimeoutException encountered for https://www.dimensional.com/us-en/funds/dfsb/global-sustainability-fixed-income-etf. Skipping to next link.\n"
     ]
    },
    {
     "name": "stderr",
     "output_type": "stream",
     "text": [
      " 50%|█████████████████████████████████████████▌                                         | 5/10 [02:02<02:02, 24.50s/it]"
     ]
    },
    {
     "name": "stdout",
     "output_type": "stream",
     "text": [
      "TimeoutException encountered for https://www.dimensional.com/us-en/funds/dfgx/global-ex-us-core-fixed-income-etf. Skipping to next link.\n"
     ]
    },
    {
     "name": "stderr",
     "output_type": "stream",
     "text": [
      " 60%|█████████████████████████████████████████████████▊                                 | 6/10 [02:26<01:37, 24.47s/it]"
     ]
    },
    {
     "name": "stdout",
     "output_type": "stream",
     "text": [
      "TimeoutException encountered for https://www.dimensional.com/us-en/funds/dfip/inflation-protected-securities-etf. Skipping to next link.\n"
     ]
    },
    {
     "name": "stderr",
     "output_type": "stream",
     "text": [
      " 70%|██████████████████████████████████████████████████████████                         | 7/10 [02:51<01:13, 24.60s/it]"
     ]
    },
    {
     "name": "stdout",
     "output_type": "stream",
     "text": [
      "TimeoutException encountered for https://www.dimensional.com/us-en/funds/dfnm/national-municipal-bond-etf. Skipping to next link.\n"
     ]
    },
    {
     "name": "stderr",
     "output_type": "stream",
     "text": [
      " 80%|██████████████████████████████████████████████████████████████████▍                | 8/10 [03:15<00:49, 24.55s/it]"
     ]
    },
    {
     "name": "stdout",
     "output_type": "stream",
     "text": [
      "TimeoutException encountered for https://www.dimensional.com/us-en/funds/dfsd/short-duration-fixed-income-etf. Skipping to next link.\n"
     ]
    },
    {
     "name": "stderr",
     "output_type": "stream",
     "text": [
      " 90%|██████████████████████████████████████████████████████████████████████████▋        | 9/10 [03:40<00:24, 24.47s/it]"
     ]
    },
    {
     "name": "stdout",
     "output_type": "stream",
     "text": [
      "TimeoutException encountered for https://www.dimensional.com/us-en/funds/dusb/ultrashort-fixed-income-etf. Skipping to next link.\n"
     ]
    },
    {
     "name": "stderr",
     "output_type": "stream",
     "text": [
      "100%|██████████████████████████████████████████████████████████████████████████████████| 10/10 [04:04<00:00, 24.47s/it]\n"
     ]
    },
    {
     "name": "stdout",
     "output_type": "stream",
     "text": [
      "KeyError encountered: \"None of ['Ticker'] are in the columns\". Skipping Dimensional ETF yield data.\n"
     ]
    },
    {
     "ename": "AttributeError",
     "evalue": "'NoneType' object has no attribute 'to_csv'",
     "output_type": "error",
     "traceback": [
      "\u001b[1;31m---------------------------------------------------------------------------\u001b[0m",
      "\u001b[1;31mAttributeError\u001b[0m                            Traceback (most recent call last)",
      "Cell \u001b[1;32mIn[2], line 21\u001b[0m\n\u001b[0;32m     18\u001b[0m csv_path \u001b[38;5;241m=\u001b[39m os\u001b[38;5;241m.\u001b[39mpath\u001b[38;5;241m.\u001b[39mjoin(data_dir, \u001b[38;5;124m'\u001b[39m\u001b[38;5;124mdimensional.csv\u001b[39m\u001b[38;5;124m'\u001b[39m)\n\u001b[0;32m     20\u001b[0m \u001b[38;5;66;03m# Save DataFrame to csv\u001b[39;00m\n\u001b[1;32m---> 21\u001b[0m \u001b[43mdf\u001b[49m\u001b[38;5;241;43m.\u001b[39;49m\u001b[43mto_csv\u001b[49m(csv_path)\n\u001b[0;32m     23\u001b[0m \u001b[38;5;66;03m# Display DataFrame\u001b[39;00m\n\u001b[0;32m     24\u001b[0m df\n",
      "\u001b[1;31mAttributeError\u001b[0m: 'NoneType' object has no attribute 'to_csv'"
     ]
    }
   ],
   "source": [
    "import os\n",
    "import utils.tools as tools\n",
    "from bots.dimensional import dimensional_bot\n",
    "\n",
    "# Get DataFrame from vanguard_bot\n",
    "df = dimensional_bot(return_df=True, headless=False)\n",
    "\n",
    "# Get the current working directory\n",
    "current_dir = os.getcwd()\n",
    "\n",
    "# Find the project root directory\n",
    "project_dir = tools.find_project_root(current_dir)\n",
    "\n",
    "# Construct the path to the 'data' directory\n",
    "data_dir = os.path.join(project_dir, 'data')\n",
    "\n",
    "# Construct the full path to your CSV file\n",
    "csv_path = os.path.join(data_dir, 'dimensional.csv')\n",
    "\n",
    "# Save DataFrame to csv\n",
    "df.to_csv(csv_path)\n",
    "\n",
    "# Display DataFrame\n",
    "df\n"
   ]
  }
 ],
 "metadata": {
  "kernelspec": {
   "display_name": "Python 3 (ipykernel)",
   "language": "python",
   "name": "python3"
  },
  "language_info": {
   "codemirror_mode": {
    "name": "ipython",
    "version": 3
   },
   "file_extension": ".py",
   "mimetype": "text/x-python",
   "name": "python",
   "nbconvert_exporter": "python",
   "pygments_lexer": "ipython3",
   "version": "3.11.3"
  }
 },
 "nbformat": 4,
 "nbformat_minor": 5
}
