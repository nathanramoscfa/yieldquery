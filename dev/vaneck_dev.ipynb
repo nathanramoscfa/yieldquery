{
 "cells": [
  {
   "cell_type": "code",
   "execution_count": 1,
   "id": "0cf1cc42-0333-476f-a516-4da63cadd7f0",
   "metadata": {},
   "outputs": [],
   "source": [
    "import sys\n",
    "sys.path.insert(0, '..')  # Add the parent directory (project root directory) to the Python path"
   ]
  },
  {
   "cell_type": "code",
   "execution_count": 2,
   "id": "f90654f5-37ea-44c2-a92b-2190a93d5d48",
   "metadata": {},
   "outputs": [],
   "source": [
    "import os\n",
    "import time\n",
    "import pandas as pd\n",
    "from selenium.webdriver.common.by import By\n",
    "from selenium.webdriver.support.ui import WebDriverWait\n",
    "from selenium.webdriver.support import expected_conditions as EC\n",
    "from selenium.common.exceptions import TimeoutException\n",
    "from selenium.common.exceptions import NoSuchElementException\n",
    "from utils.drivers import setup_driver\n",
    "from tqdm import tqdm"
   ]
  },
  {
   "cell_type": "code",
   "execution_count": 3,
   "id": "24081cd8-0f62-4c1d-b15a-b1930cdb7470",
   "metadata": {
    "tags": []
   },
   "outputs": [],
   "source": [
    "from bots import vaneck"
   ]
  },
  {
   "cell_type": "code",
   "execution_count": 11,
   "id": "a14b4af0-d13b-4fb5-aebd-d2ef9a64ab6b",
   "metadata": {
    "tags": []
   },
   "outputs": [],
   "source": [
    "url = 'https://www.vaneck.com/us/en/investments/cef-municipal-income-etf-xmpt/portfolio/'"
   ]
  },
  {
   "cell_type": "code",
   "execution_count": 7,
   "id": "e8648631-fa36-4bad-aafb-6e862456f8a2",
   "metadata": {
    "tags": []
   },
   "outputs": [],
   "source": [
    "driver = setup_driver(headless=False)"
   ]
  },
  {
   "cell_type": "code",
   "execution_count": 12,
   "id": "f40db5cd-af55-4cc0-8b92-e8240b89804d",
   "metadata": {
    "tags": []
   },
   "outputs": [],
   "source": [
    "driver.get(url)"
   ]
  },
  {
   "cell_type": "code",
   "execution_count": 26,
   "id": "bc8aa111-bec7-470c-b275-2b3fd647e1e5",
   "metadata": {
    "tags": []
   },
   "outputs": [],
   "source": [
    "as_of_date_css_selector = '#portfolio > div > div:nth-child(1) > ve-contentareablock > section > div > div:nth-child(1) > h3 > span'"
   ]
  },
  {
   "cell_type": "code",
   "execution_count": 19,
   "id": "11091f83-2999-4cc9-9498-d6d42657cd7a",
   "metadata": {
    "tags": []
   },
   "outputs": [],
   "source": [
    "ticker_css_selector = '#root > main > div.container > div.fund-page-secondary-nav-wrp.fixed-nav > ve-fundpagesecondarynav > div > div > div.inner-container > div.fund-label.d-flex > div.ticker-label.pr-2.font-weight-bold'"
   ]
  },
  {
   "cell_type": "code",
   "execution_count": 20,
   "id": "69eb7af1-07ce-46ed-828e-2bba4ba31d37",
   "metadata": {
    "tags": []
   },
   "outputs": [],
   "source": [
    "name_css_selector = '#root > main > div.container > div.fund-page-secondary-nav-wrp.fixed-nav > ve-fundpagesecondarynav > div > div > div.inner-container > div.fund-label.d-flex > div.fund-name-label.px-2'"
   ]
  },
  {
   "cell_type": "code",
   "execution_count": 21,
   "id": "40b7b8eb-c2c5-4358-bab7-eb0a6e178cbf",
   "metadata": {
    "tags": []
   },
   "outputs": [],
   "source": [
    "ytw_css_selector = '#portfolio > div > div:nth-child(1) > ve-contentareablock > section > div > div:nth-child(1) > ul > li:nth-child(1) > div:nth-child(2)'"
   ]
  },
  {
   "cell_type": "code",
   "execution_count": 30,
   "id": "d5176f20-0615-468d-85c7-30addf87f940",
   "metadata": {
    "tags": []
   },
   "outputs": [],
   "source": [
    "ytm_css_selector = '#portfolio > div > div:nth-child(1) > ve-contentareablock > section > div > div:nth-child(1) > ul > li:nth-child(3) > div:nth-child(2)'"
   ]
  },
  {
   "cell_type": "code",
   "execution_count": 27,
   "id": "9438ec38-9dbc-44e2-8ba3-39a38b505aca",
   "metadata": {
    "tags": []
   },
   "outputs": [
    {
     "data": {
      "text/plain": [
       "'as of 04/10/2024'"
      ]
     },
     "execution_count": 27,
     "metadata": {},
     "output_type": "execute_result"
    }
   ],
   "source": [
    "WebDriverWait(driver, 5).until(\n",
    "    EC.presence_of_element_located((\n",
    "        By.CSS_SELECTOR, \n",
    "        as_of_date_css_selector\n",
    "    ))).text"
   ]
  },
  {
   "cell_type": "code",
   "execution_count": 24,
   "id": "a6d8194e-4e98-41a7-8c15-ce4b45de0516",
   "metadata": {
    "tags": []
   },
   "outputs": [
    {
     "data": {
      "text/plain": [
       "'XMPT'"
      ]
     },
     "execution_count": 24,
     "metadata": {},
     "output_type": "execute_result"
    }
   ],
   "source": [
    "WebDriverWait(driver, 5).until(\n",
    "    EC.presence_of_element_located((\n",
    "        By.CSS_SELECTOR, \n",
    "        ticker_css_selector\n",
    "    ))).text"
   ]
  },
  {
   "cell_type": "code",
   "execution_count": 25,
   "id": "2bf3acf8-f530-404c-a793-c64e034a4aad",
   "metadata": {
    "tags": []
   },
   "outputs": [
    {
     "data": {
      "text/plain": [
       "'VanEck CEF Muni Income ETF'"
      ]
     },
     "execution_count": 25,
     "metadata": {},
     "output_type": "execute_result"
    }
   ],
   "source": [
    "WebDriverWait(driver, 5).until(\n",
    "    EC.presence_of_element_located((\n",
    "        By.CSS_SELECTOR, \n",
    "        name_css_selector\n",
    "    ))).text"
   ]
  },
  {
   "cell_type": "code",
   "execution_count": 28,
   "id": "5da4393b-de8d-4500-a9c3-05068b79df98",
   "metadata": {
    "tags": []
   },
   "outputs": [
    {
     "data": {
      "text/plain": [
       "'6.62'"
      ]
     },
     "execution_count": 28,
     "metadata": {},
     "output_type": "execute_result"
    }
   ],
   "source": [
    "WebDriverWait(driver, 5).until(\n",
    "    EC.presence_of_element_located((\n",
    "        By.CSS_SELECTOR, \n",
    "        ytw_css_selector\n",
    "    ))).text"
   ]
  },
  {
   "cell_type": "code",
   "execution_count": 31,
   "id": "fc502eeb-09ef-48d7-a3a9-e2df90780ad8",
   "metadata": {
    "tags": []
   },
   "outputs": [
    {
     "data": {
      "text/plain": [
       "'7.07'"
      ]
     },
     "execution_count": 31,
     "metadata": {},
     "output_type": "execute_result"
    }
   ],
   "source": [
    "WebDriverWait(driver, 5).until(\n",
    "    EC.presence_of_element_located((\n",
    "        By.CSS_SELECTOR, \n",
    "        ytm_css_selector\n",
    "    ))).text"
   ]
  },
  {
   "cell_type": "code",
   "execution_count": null,
   "id": "1e0dc0a6-7115-415b-ba18-c409d7c6939b",
   "metadata": {},
   "outputs": [],
   "source": []
  }
 ],
 "metadata": {
  "kernelspec": {
   "display_name": "Python 3 (ipykernel)",
   "language": "python",
   "name": "python3"
  },
  "language_info": {
   "codemirror_mode": {
    "name": "ipython",
    "version": 3
   },
   "file_extension": ".py",
   "mimetype": "text/x-python",
   "name": "python",
   "nbconvert_exporter": "python",
   "pygments_lexer": "ipython3",
   "version": "3.11.3"
  }
 },
 "nbformat": 4,
 "nbformat_minor": 5
}
