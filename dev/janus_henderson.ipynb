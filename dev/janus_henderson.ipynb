{
 "cells": [
  {
   "cell_type": "code",
   "execution_count": 1,
   "id": "5c8c94b3-d1b4-49dc-8f6c-9ffec9934a8e",
   "metadata": {},
   "outputs": [],
   "source": [
    "import sys\n",
    "sys.path.insert(0, '..')  # Add the parent directory (project root directory) to the Python path"
   ]
  },
  {
   "cell_type": "code",
   "execution_count": 2,
   "id": "3ccf0cde-6489-44cb-ac15-593cfc85a1aa",
   "metadata": {
    "tags": []
   },
   "outputs": [
    {
     "name": "stdout",
     "output_type": "stream",
     "text": [
      "Downloading Janus Henderson ETF yield data...\n",
      "Saving Janus Henderson ETF yield data to CSV file...\n",
      "Done!\n"
     ]
    },
    {
     "data": {
      "text/html": [
       "<div>\n",
       "<style scoped>\n",
       "    .dataframe tbody tr th:only-of-type {\n",
       "        vertical-align: middle;\n",
       "    }\n",
       "\n",
       "    .dataframe tbody tr th {\n",
       "        vertical-align: top;\n",
       "    }\n",
       "\n",
       "    .dataframe thead th {\n",
       "        text-align: right;\n",
       "    }\n",
       "</style>\n",
       "<table border=\"1\" class=\"dataframe\">\n",
       "  <thead>\n",
       "    <tr style=\"text-align: right;\">\n",
       "      <th></th>\n",
       "      <th>Name</th>\n",
       "      <th>Yield to Worst</th>\n",
       "      <th>As of Date</th>\n",
       "    </tr>\n",
       "    <tr>\n",
       "      <th>Ticker</th>\n",
       "      <th></th>\n",
       "      <th></th>\n",
       "      <th></th>\n",
       "    </tr>\n",
       "  </thead>\n",
       "  <tbody>\n",
       "    <tr>\n",
       "      <th>JAAA</th>\n",
       "      <td>AAA CLO ETF</td>\n",
       "      <td>0.0737</td>\n",
       "      <td>07-28-2023</td>\n",
       "    </tr>\n",
       "    <tr>\n",
       "      <th>VNLA</th>\n",
       "      <td>Short Duration Income ETF</td>\n",
       "      <td>0.0627</td>\n",
       "      <td>07-28-2023</td>\n",
       "    </tr>\n",
       "    <tr>\n",
       "      <th>JBBB</th>\n",
       "      <td>B-BBB CLO ETF</td>\n",
       "      <td>0.1020</td>\n",
       "      <td>07-28-2023</td>\n",
       "    </tr>\n",
       "    <tr>\n",
       "      <th>JMBS</th>\n",
       "      <td>Mortgage-Backed Securities ETF</td>\n",
       "      <td>0.0696</td>\n",
       "      <td>07-28-2023</td>\n",
       "    </tr>\n",
       "    <tr>\n",
       "      <th>JIB</th>\n",
       "      <td>Sustainable &amp; Impact Core Bond ETF</td>\n",
       "      <td>0.0501</td>\n",
       "      <td>07-28-2023</td>\n",
       "    </tr>\n",
       "    <tr>\n",
       "      <th>SCRD</th>\n",
       "      <td>Sustainable Corporate Bond ETF</td>\n",
       "      <td>0.0561</td>\n",
       "      <td>07-28-2023</td>\n",
       "    </tr>\n",
       "  </tbody>\n",
       "</table>\n",
       "</div>"
      ],
      "text/plain": [
       "                                      Name  Yield to Worst  As of Date\n",
       "Ticker                                                                \n",
       "JAAA                           AAA CLO ETF          0.0737  07-28-2023\n",
       "VNLA             Short Duration Income ETF          0.0627  07-28-2023\n",
       "JBBB                         B-BBB CLO ETF          0.1020  07-28-2023\n",
       "JMBS        Mortgage-Backed Securities ETF          0.0696  07-28-2023\n",
       "JIB     Sustainable & Impact Core Bond ETF          0.0501  07-28-2023\n",
       "SCRD        Sustainable Corporate Bond ETF          0.0561  07-28-2023"
      ]
     },
     "execution_count": 2,
     "metadata": {},
     "output_type": "execute_result"
    }
   ],
   "source": [
    "import os\n",
    "import sys\n",
    "from bots.janus_henderson import janus_henderson_bot\n",
    "\n",
    "# Get DataFrame from vanguard_bot\n",
    "df = janus_henderson_bot(return_df=True, headless=True)\n",
    "\n",
    "# Get the absolute path of the project's root directory\n",
    "project_dir = os.path.dirname(os.getcwd())\n",
    "\n",
    "# Change the working directory to the project's root directory\n",
    "os.chdir(project_dir)\n",
    "\n",
    "# Now, you can construct the paths to your CSV files relative to the project's root directory\n",
    "csv_path = os.path.join('data', 'janus_henderson.csv')\n",
    "\n",
    "# Save DataFrame to csv\n",
    "df.to_csv(csv_path)\n",
    "\n",
    "# Display DataFrame\n",
    "df\n"
   ]
  },
  {
   "cell_type": "code",
   "execution_count": null,
   "id": "df3914b3-8273-4251-873f-d38bd21c7dd7",
   "metadata": {},
   "outputs": [],
   "source": []
  }
 ],
 "metadata": {
  "kernelspec": {
   "display_name": "Python 3 (ipykernel)",
   "language": "python",
   "name": "python3"
  },
  "language_info": {
   "codemirror_mode": {
    "name": "ipython",
    "version": 3
   },
   "file_extension": ".py",
   "mimetype": "text/x-python",
   "name": "python",
   "nbconvert_exporter": "python",
   "pygments_lexer": "ipython3",
   "version": "3.11.3"
  }
 },
 "nbformat": 4,
 "nbformat_minor": 5
}
