{
 "cells": [
  {
   "cell_type": "code",
   "execution_count": 1,
   "id": "d95ae793-8882-4da5-873b-510d7c37c3e9",
   "metadata": {},
   "outputs": [],
   "source": [
    "import sys\n",
    "sys.path.insert(0, '..')  # Add the parent directory (project root directory) to the Python path"
   ]
  },
  {
   "cell_type": "code",
   "execution_count": 2,
   "id": "e6d2f394-4524-4770-8b4f-7bff9be44602",
   "metadata": {
    "tags": []
   },
   "outputs": [],
   "source": [
    "from bots.ishares import ishares_bot"
   ]
  },
  {
   "cell_type": "code",
   "execution_count": null,
   "id": "96e4c31c-04f7-4728-99e5-bd22321b3571",
   "metadata": {},
   "outputs": [
    {
     "name": "stdout",
     "output_type": "stream",
     "text": [
      "Downloading iShares ETF yield data...\n"
     ]
    }
   ],
   "source": [
    "df = ishares_bot(method='xls', return_df=True)\n",
    "df"
   ]
  },
  {
   "cell_type": "code",
   "execution_count": null,
   "id": "fbbc75a3-c404-4091-b806-e49561d84c5e",
   "metadata": {},
   "outputs": [],
   "source": []
  }
 ],
 "metadata": {
  "kernelspec": {
   "display_name": "Python 3 (ipykernel)",
   "language": "python",
   "name": "python3"
  },
  "language_info": {
   "codemirror_mode": {
    "name": "ipython",
    "version": 3
   },
   "file_extension": ".py",
   "mimetype": "text/x-python",
   "name": "python",
   "nbconvert_exporter": "python",
   "pygments_lexer": "ipython3",
   "version": "3.11.3"
  }
 },
 "nbformat": 4,
 "nbformat_minor": 5
}
