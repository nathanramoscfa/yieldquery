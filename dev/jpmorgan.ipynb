{
 "cells": [
  {
   "cell_type": "code",
   "execution_count": 1,
   "id": "0d55b452-58cb-430d-a097-5ed53c1dfabd",
   "metadata": {},
   "outputs": [],
   "source": [
    "import sys\n",
    "sys.path.insert(0, '..')  # Add the parent directory (project root directory) to the Python path"
   ]
  },
  {
   "cell_type": "code",
   "execution_count": 2,
   "id": "6178199b-6267-4480-9840-2edacce415bd",
   "metadata": {
    "tags": []
   },
   "outputs": [],
   "source": [
    "from bots.jpmorgan import jpmorgan_bot"
   ]
  },
  {
   "cell_type": "code",
   "execution_count": 3,
   "id": "676b1401-0ee9-4435-8528-7bf4e253ab2a",
   "metadata": {
    "tags": []
   },
   "outputs": [
    {
     "name": "stdout",
     "output_type": "stream",
     "text": [
      "Downloading JPMorgan ETF Data...\n"
     ]
    },
    {
     "name": "stderr",
     "output_type": "stream",
     "text": [
      "100%|██████████████████████████████████████████████████████████████████████████████████| 17/17 [01:21<00:00,  4.80s/it]\n"
     ]
    },
    {
     "name": "stdout",
     "output_type": "stream",
     "text": [
      "Saving JPMorgan ETF data...\n",
      "Done.\n"
     ]
    },
    {
     "data": {
      "text/html": [
       "<div>\n",
       "<style scoped>\n",
       "    .dataframe tbody tr th:only-of-type {\n",
       "        vertical-align: middle;\n",
       "    }\n",
       "\n",
       "    .dataframe tbody tr th {\n",
       "        vertical-align: top;\n",
       "    }\n",
       "\n",
       "    .dataframe thead th {\n",
       "        text-align: right;\n",
       "    }\n",
       "</style>\n",
       "<table border=\"1\" class=\"dataframe\">\n",
       "  <thead>\n",
       "    <tr style=\"text-align: right;\">\n",
       "      <th></th>\n",
       "      <th>Name</th>\n",
       "      <th>Yield to Maturity</th>\n",
       "      <th>As of Date</th>\n",
       "    </tr>\n",
       "    <tr>\n",
       "      <th>Ticker</th>\n",
       "      <th></th>\n",
       "      <th></th>\n",
       "      <th></th>\n",
       "    </tr>\n",
       "  </thead>\n",
       "  <tbody>\n",
       "    <tr>\n",
       "      <th>JPIE</th>\n",
       "      <td>JPMorgan Income ETF</td>\n",
       "      <td>0.0688</td>\n",
       "      <td>05-31-2023</td>\n",
       "    </tr>\n",
       "    <tr>\n",
       "      <th>BBLB</th>\n",
       "      <td>JPMorgan BetaBuilders U.S. Treasury Bond 20+ Y...</td>\n",
       "      <td>0.0394</td>\n",
       "      <td>05-31-2023</td>\n",
       "    </tr>\n",
       "    <tr>\n",
       "      <th>JPIB</th>\n",
       "      <td>JPMorgan International Bond Opportunities ETF</td>\n",
       "      <td>0.0624</td>\n",
       "      <td>05-31-2023</td>\n",
       "    </tr>\n",
       "    <tr>\n",
       "      <th>JPMB</th>\n",
       "      <td>JPMorgan USD Emerging Markets Sovereign Bond ETF</td>\n",
       "      <td>0.0697</td>\n",
       "      <td>05-31-2023</td>\n",
       "    </tr>\n",
       "    <tr>\n",
       "      <th>JSCP</th>\n",
       "      <td>JPMorgan Short Duration Core Plus ETF</td>\n",
       "      <td>0.0619</td>\n",
       "      <td>05-31-2023</td>\n",
       "    </tr>\n",
       "    <tr>\n",
       "      <th>BBSA</th>\n",
       "      <td>JPMorgan BetaBuilders 1-5 Year U.S. Aggregate ...</td>\n",
       "      <td>0.0463</td>\n",
       "      <td>05-31-2023</td>\n",
       "    </tr>\n",
       "    <tr>\n",
       "      <th>JPST</th>\n",
       "      <td>JPMorgan Ultra-Short Income ETF</td>\n",
       "      <td>0.0579</td>\n",
       "      <td>07-03-2023</td>\n",
       "    </tr>\n",
       "    <tr>\n",
       "      <th>JCPB</th>\n",
       "      <td>JPMorgan Core Plus Bond ETF</td>\n",
       "      <td>0.0560</td>\n",
       "      <td>05-31-2023</td>\n",
       "    </tr>\n",
       "    <tr>\n",
       "      <th>BBCB</th>\n",
       "      <td>JPMorgan BetaBuilders USD Investment Grade Cor...</td>\n",
       "      <td>0.0540</td>\n",
       "      <td>05-31-2023</td>\n",
       "    </tr>\n",
       "    <tr>\n",
       "      <th>BBAG</th>\n",
       "      <td>JPMorgan BetaBuilders U.S. Aggregate Bond ETF</td>\n",
       "      <td>0.0458</td>\n",
       "      <td>05-31-2023</td>\n",
       "    </tr>\n",
       "    <tr>\n",
       "      <th>BBHY</th>\n",
       "      <td>JPMorgan BetaBuilders USD High Yield Corporate...</td>\n",
       "      <td>0.0890</td>\n",
       "      <td>05-31-2023</td>\n",
       "    </tr>\n",
       "    <tr>\n",
       "      <th>BBSB</th>\n",
       "      <td>JPMorgan BetaBuilders U.S. Treasury Bond 1-3 Y...</td>\n",
       "      <td>0.0451</td>\n",
       "      <td>05-31-2023</td>\n",
       "    </tr>\n",
       "    <tr>\n",
       "      <th>JCPI</th>\n",
       "      <td>JPMorgan Inflation Managed Bond ETF</td>\n",
       "      <td>0.0477</td>\n",
       "      <td>05-31-2023</td>\n",
       "    </tr>\n",
       "    <tr>\n",
       "      <th>BBIP</th>\n",
       "      <td>JPMorgan BetaBuilders U.S. TIPS 0-5 Year ETF</td>\n",
       "      <td>0.0211</td>\n",
       "      <td>05-31-2023</td>\n",
       "    </tr>\n",
       "    <tr>\n",
       "      <th>BBIB</th>\n",
       "      <td>JPMorgan BetaBuilders U.S. Treasury Bond 3-10 ...</td>\n",
       "      <td>0.0379</td>\n",
       "      <td>05-31-2023</td>\n",
       "    </tr>\n",
       "  </tbody>\n",
       "</table>\n",
       "</div>"
      ],
      "text/plain": [
       "                                                     Name  Yield to Maturity  \\\n",
       "Ticker                                                                         \n",
       "JPIE                                  JPMorgan Income ETF             0.0688   \n",
       "BBLB    JPMorgan BetaBuilders U.S. Treasury Bond 20+ Y...             0.0394   \n",
       "JPIB        JPMorgan International Bond Opportunities ETF             0.0624   \n",
       "JPMB     JPMorgan USD Emerging Markets Sovereign Bond ETF             0.0697   \n",
       "JSCP                JPMorgan Short Duration Core Plus ETF             0.0619   \n",
       "BBSA    JPMorgan BetaBuilders 1-5 Year U.S. Aggregate ...             0.0463   \n",
       "JPST                      JPMorgan Ultra-Short Income ETF             0.0579   \n",
       "JCPB                          JPMorgan Core Plus Bond ETF             0.0560   \n",
       "BBCB    JPMorgan BetaBuilders USD Investment Grade Cor...             0.0540   \n",
       "BBAG        JPMorgan BetaBuilders U.S. Aggregate Bond ETF             0.0458   \n",
       "BBHY    JPMorgan BetaBuilders USD High Yield Corporate...             0.0890   \n",
       "BBSB    JPMorgan BetaBuilders U.S. Treasury Bond 1-3 Y...             0.0451   \n",
       "JCPI                  JPMorgan Inflation Managed Bond ETF             0.0477   \n",
       "BBIP         JPMorgan BetaBuilders U.S. TIPS 0-5 Year ETF             0.0211   \n",
       "BBIB    JPMorgan BetaBuilders U.S. Treasury Bond 3-10 ...             0.0379   \n",
       "\n",
       "        As of Date  \n",
       "Ticker              \n",
       "JPIE    05-31-2023  \n",
       "BBLB    05-31-2023  \n",
       "JPIB    05-31-2023  \n",
       "JPMB    05-31-2023  \n",
       "JSCP    05-31-2023  \n",
       "BBSA    05-31-2023  \n",
       "JPST    07-03-2023  \n",
       "JCPB    05-31-2023  \n",
       "BBCB    05-31-2023  \n",
       "BBAG    05-31-2023  \n",
       "BBHY    05-31-2023  \n",
       "BBSB    05-31-2023  \n",
       "JCPI    05-31-2023  \n",
       "BBIP    05-31-2023  \n",
       "BBIB    05-31-2023  "
      ]
     },
     "execution_count": 3,
     "metadata": {},
     "output_type": "execute_result"
    }
   ],
   "source": [
    "df = jpmorgan_bot(return_df=True)\n",
    "df"
   ]
  },
  {
   "cell_type": "code",
   "execution_count": null,
   "id": "e666ca6c-83fa-493a-b049-c753f9f3ae8b",
   "metadata": {},
   "outputs": [],
   "source": []
  }
 ],
 "metadata": {
  "kernelspec": {
   "display_name": "Python 3 (ipykernel)",
   "language": "python",
   "name": "python3"
  },
  "language_info": {
   "codemirror_mode": {
    "name": "ipython",
    "version": 3
   },
   "file_extension": ".py",
   "mimetype": "text/x-python",
   "name": "python",
   "nbconvert_exporter": "python",
   "pygments_lexer": "ipython3",
   "version": "3.11.3"
  }
 },
 "nbformat": 4,
 "nbformat_minor": 5
}
