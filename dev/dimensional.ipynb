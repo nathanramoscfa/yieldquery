{
 "cells": [
  {
   "cell_type": "code",
   "execution_count": 1,
   "id": "bf6a37ae-9762-4e2b-a5d3-6640473f5f7a",
   "metadata": {},
   "outputs": [],
   "source": [
    "import sys\n",
    "sys.path.insert(0, '..')  # Add the parent directory (project root directory) to the Python path"
   ]
  },
  {
   "cell_type": "code",
   "execution_count": 2,
   "id": "a6b5975e-a63c-416e-be03-d23a60c9bfe4",
   "metadata": {},
   "outputs": [
    {
     "name": "stdout",
     "output_type": "stream",
     "text": [
      "Downloading Dimensional ETF yield data...\n"
     ]
    },
    {
     "name": "stderr",
     "output_type": "stream",
     "text": [
      "100%|████████████████████████████████████████████████████████████████████████████████████| 6/6 [00:28<00:00,  4.69s/it]\n"
     ]
    },
    {
     "name": "stdout",
     "output_type": "stream",
     "text": [
      "Saving Dimensional ETF yield data to CSV file...\n",
      "Done!\n"
     ]
    },
    {
     "data": {
      "text/html": [
       "<div>\n",
       "<style scoped>\n",
       "    .dataframe tbody tr th:only-of-type {\n",
       "        vertical-align: middle;\n",
       "    }\n",
       "\n",
       "    .dataframe tbody tr th {\n",
       "        vertical-align: top;\n",
       "    }\n",
       "\n",
       "    .dataframe thead th {\n",
       "        text-align: right;\n",
       "    }\n",
       "</style>\n",
       "<table border=\"1\" class=\"dataframe\">\n",
       "  <thead>\n",
       "    <tr style=\"text-align: right;\">\n",
       "      <th></th>\n",
       "      <th>Name</th>\n",
       "      <th>Yield to Maturity</th>\n",
       "      <th>As of Date</th>\n",
       "    </tr>\n",
       "    <tr>\n",
       "      <th>Ticker</th>\n",
       "      <th></th>\n",
       "      <th></th>\n",
       "      <th></th>\n",
       "    </tr>\n",
       "  </thead>\n",
       "  <tbody>\n",
       "    <tr>\n",
       "      <th>DFCF</th>\n",
       "      <td>Core Fixed Income ETF</td>\n",
       "      <td>0.0505</td>\n",
       "      <td>06-30-2023</td>\n",
       "    </tr>\n",
       "    <tr>\n",
       "      <th>DFSB</th>\n",
       "      <td>Global Sustainability Fixed Income ETF</td>\n",
       "      <td>0.0557</td>\n",
       "      <td>06-30-2023</td>\n",
       "    </tr>\n",
       "    <tr>\n",
       "      <th>DFIP</th>\n",
       "      <td>Inflation Protected Securities ETF</td>\n",
       "      <td>0.0178</td>\n",
       "      <td>06-30-2023</td>\n",
       "    </tr>\n",
       "    <tr>\n",
       "      <th>DFNM</th>\n",
       "      <td>National Municipal Bond ETF</td>\n",
       "      <td>0.0300</td>\n",
       "      <td>06-30-2023</td>\n",
       "    </tr>\n",
       "    <tr>\n",
       "      <th>DFSD</th>\n",
       "      <td>Short Duration Fixed Income ETF</td>\n",
       "      <td>0.0582</td>\n",
       "      <td>06-30-2023</td>\n",
       "    </tr>\n",
       "  </tbody>\n",
       "</table>\n",
       "</div>"
      ],
      "text/plain": [
       "                                          Name  Yield to Maturity  As of Date\n",
       "Ticker                                                                       \n",
       "DFCF                     Core Fixed Income ETF             0.0505  06-30-2023\n",
       "DFSB    Global Sustainability Fixed Income ETF             0.0557  06-30-2023\n",
       "DFIP        Inflation Protected Securities ETF             0.0178  06-30-2023\n",
       "DFNM               National Municipal Bond ETF             0.0300  06-30-2023\n",
       "DFSD           Short Duration Fixed Income ETF             0.0582  06-30-2023"
      ]
     },
     "execution_count": 2,
     "metadata": {},
     "output_type": "execute_result"
    }
   ],
   "source": [
    "import os\n",
    "import sys\n",
    "from bots.dimensional import dimensional_bot\n",
    "\n",
    "# Get DataFrame from vanguard_bot\n",
    "df = dimensional_bot(return_df=True, headless=True)\n",
    "\n",
    "# Get the absolute path of the project's root directory\n",
    "project_dir = os.path.dirname(os.getcwd())\n",
    "\n",
    "# Change the working directory to the project's root directory\n",
    "os.chdir(project_dir)\n",
    "\n",
    "# Now, you can construct the paths to your CSV files relative to the project's root directory\n",
    "csv_path = os.path.join('data', 'dimensional.csv')\n",
    "\n",
    "# Save DataFrame to csv\n",
    "df.to_csv(csv_path)\n",
    "\n",
    "# Display DataFrame\n",
    "df\n"
   ]
  },
  {
   "cell_type": "code",
   "execution_count": null,
   "id": "f0b5ae65-d011-4d47-8f67-2a90d1ac606b",
   "metadata": {},
   "outputs": [],
   "source": []
  }
 ],
 "metadata": {
  "kernelspec": {
   "display_name": "Python 3 (ipykernel)",
   "language": "python",
   "name": "python3"
  },
  "language_info": {
   "codemirror_mode": {
    "name": "ipython",
    "version": 3
   },
   "file_extension": ".py",
   "mimetype": "text/x-python",
   "name": "python",
   "nbconvert_exporter": "python",
   "pygments_lexer": "ipython3",
   "version": "3.11.3"
  }
 },
 "nbformat": 4,
 "nbformat_minor": 5
}
