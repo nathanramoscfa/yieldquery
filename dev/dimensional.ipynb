{
 "cells": [
  {
   "cell_type": "code",
   "execution_count": 1,
   "id": "bf6a37ae-9762-4e2b-a5d3-6640473f5f7a",
   "metadata": {},
   "outputs": [],
   "source": [
    "import sys\n",
    "sys.path.insert(0, '..')  # Add the parent directory (project root directory) to the Python path"
   ]
  },
  {
   "cell_type": "code",
   "execution_count": 3,
   "id": "a6b5975e-a63c-416e-be03-d23a60c9bfe4",
   "metadata": {},
   "outputs": [
    {
     "name": "stdout",
     "output_type": "stream",
     "text": [
      "Downloading Dimensional ETF yield data...\n"
     ]
    },
    {
     "name": "stderr",
     "output_type": "stream",
     "text": [
      "100%|██████████████████████████████████████████████████████████████████████████████████| 10/10 [01:48<00:00, 10.84s/it]\n"
     ]
    },
    {
     "name": "stdout",
     "output_type": "stream",
     "text": [
      "Saving Dimensional ETF yield data to CSV file...\n",
      "Done!\n"
     ]
    },
    {
     "data": {
      "text/html": [
       "<div>\n",
       "<style scoped>\n",
       "    .dataframe tbody tr th:only-of-type {\n",
       "        vertical-align: middle;\n",
       "    }\n",
       "\n",
       "    .dataframe tbody tr th {\n",
       "        vertical-align: top;\n",
       "    }\n",
       "\n",
       "    .dataframe thead th {\n",
       "        text-align: right;\n",
       "    }\n",
       "</style>\n",
       "<table border=\"1\" class=\"dataframe\">\n",
       "  <thead>\n",
       "    <tr style=\"text-align: right;\">\n",
       "      <th></th>\n",
       "      <th>Name</th>\n",
       "      <th>Yield to Maturity</th>\n",
       "      <th>As of Date</th>\n",
       "    </tr>\n",
       "    <tr>\n",
       "      <th>Ticker</th>\n",
       "      <th></th>\n",
       "      <th></th>\n",
       "      <th></th>\n",
       "    </tr>\n",
       "  </thead>\n",
       "  <tbody>\n",
       "    <tr>\n",
       "      <th>DFCA</th>\n",
       "      <td>California Municipal Bond ETF</td>\n",
       "      <td>0.0403</td>\n",
       "      <td>10-31-2023</td>\n",
       "    </tr>\n",
       "    <tr>\n",
       "      <th>DFCF</th>\n",
       "      <td>Core Fixed Income ETF</td>\n",
       "      <td>0.0600</td>\n",
       "      <td>10-31-2023</td>\n",
       "    </tr>\n",
       "    <tr>\n",
       "      <th>DFSB</th>\n",
       "      <td>Global Sustainability Fixed Income ETF</td>\n",
       "      <td>0.0626</td>\n",
       "      <td>10-31-2023</td>\n",
       "    </tr>\n",
       "    <tr>\n",
       "      <th>DFIP</th>\n",
       "      <td>Inflation Protected Securities ETF</td>\n",
       "      <td>0.0256</td>\n",
       "      <td>10-31-2023</td>\n",
       "    </tr>\n",
       "    <tr>\n",
       "      <th>DFNM</th>\n",
       "      <td>National Municipal Bond ETF</td>\n",
       "      <td>0.0412</td>\n",
       "      <td>10-31-2023</td>\n",
       "    </tr>\n",
       "    <tr>\n",
       "      <th>DFSD</th>\n",
       "      <td>Short Duration Fixed Income ETF</td>\n",
       "      <td>0.0618</td>\n",
       "      <td>10-31-2023</td>\n",
       "    </tr>\n",
       "    <tr>\n",
       "      <th>DUSB</th>\n",
       "      <td>Ultrashort Fixed Income ETF</td>\n",
       "      <td>0.0622</td>\n",
       "      <td>10-31-2023</td>\n",
       "    </tr>\n",
       "  </tbody>\n",
       "</table>\n",
       "</div>"
      ],
      "text/plain": [
       "                                          Name  Yield to Maturity  As of Date\n",
       "Ticker                                                                       \n",
       "DFCA             California Municipal Bond ETF             0.0403  10-31-2023\n",
       "DFCF                     Core Fixed Income ETF             0.0600  10-31-2023\n",
       "DFSB    Global Sustainability Fixed Income ETF             0.0626  10-31-2023\n",
       "DFIP        Inflation Protected Securities ETF             0.0256  10-31-2023\n",
       "DFNM               National Municipal Bond ETF             0.0412  10-31-2023\n",
       "DFSD           Short Duration Fixed Income ETF             0.0618  10-31-2023\n",
       "DUSB               Ultrashort Fixed Income ETF             0.0622  10-31-2023"
      ]
     },
     "execution_count": 3,
     "metadata": {},
     "output_type": "execute_result"
    }
   ],
   "source": [
    "import os\n",
    "import utils.tools as tools\n",
    "from bots.dimensional import dimensional_bot\n",
    "\n",
    "# Get DataFrame from vanguard_bot\n",
    "df = dimensional_bot(return_df=True, headless=True)\n",
    "\n",
    "# Get the current working directory\n",
    "current_dir = os.getcwd()\n",
    "\n",
    "# Find the project root directory\n",
    "project_dir = tools.find_project_root(current_dir)\n",
    "\n",
    "# Construct the path to the 'data' directory\n",
    "data_dir = os.path.join(project_dir, 'data')\n",
    "\n",
    "# Construct the full path to your CSV file\n",
    "csv_path = os.path.join(data_dir, 'dimensional.csv')\n",
    "\n",
    "# Save DataFrame to csv\n",
    "df.to_csv(csv_path)\n",
    "\n",
    "# Display DataFrame\n",
    "df\n"
   ]
  },
  {
   "cell_type": "code",
   "execution_count": null,
   "id": "f0b5ae65-d011-4d47-8f67-2a90d1ac606b",
   "metadata": {},
   "outputs": [],
   "source": []
  }
 ],
 "metadata": {
  "kernelspec": {
   "display_name": "Python 3 (ipykernel)",
   "language": "python",
   "name": "python3"
  },
  "language_info": {
   "codemirror_mode": {
    "name": "ipython",
    "version": 3
   },
   "file_extension": ".py",
   "mimetype": "text/x-python",
   "name": "python",
   "nbconvert_exporter": "python",
   "pygments_lexer": "ipython3",
   "version": "3.11.3"
  }
 },
 "nbformat": 4,
 "nbformat_minor": 5
}
