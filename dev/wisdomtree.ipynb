{
 "cells": [
  {
   "cell_type": "code",
   "execution_count": 1,
   "id": "eb74a2ab-7f1a-490f-9b88-7f5baae73890",
   "metadata": {},
   "outputs": [],
   "source": [
    "import sys\n",
    "sys.path.insert(0, '..')  # Add the parent directory (project root directory) to the Python path"
   ]
  },
  {
   "cell_type": "code",
   "execution_count": 2,
   "id": "b274bb4a-8add-4036-a0a6-07940fcb4011",
   "metadata": {
    "tags": []
   },
   "outputs": [],
   "source": [
    "from bots.wisdomtree import wisdomtree_bot"
   ]
  },
  {
   "cell_type": "code",
   "execution_count": 3,
   "id": "1056c8af-2a0c-44cd-9ec1-2dc0b7e2f5a0",
   "metadata": {
    "tags": []
   },
   "outputs": [
    {
     "name": "stdout",
     "output_type": "stream",
     "text": [
      "Downloading WisdomTree ETF yield data...\n"
     ]
    },
    {
     "name": "stderr",
     "output_type": "stream",
     "text": [
      "100%|██████████████████████████████████████████████████████████████████████████████████| 17/17 [01:09<00:00,  4.07s/it]\n"
     ]
    },
    {
     "name": "stdout",
     "output_type": "stream",
     "text": [
      "Saving WisdomTree ETF yield data to CSV file...\n",
      "Done!\n"
     ]
    },
    {
     "data": {
      "text/html": [
       "<div>\n",
       "<style scoped>\n",
       "    .dataframe tbody tr th:only-of-type {\n",
       "        vertical-align: middle;\n",
       "    }\n",
       "\n",
       "    .dataframe tbody tr th {\n",
       "        vertical-align: top;\n",
       "    }\n",
       "\n",
       "    .dataframe thead th {\n",
       "        text-align: right;\n",
       "    }\n",
       "</style>\n",
       "<table border=\"1\" class=\"dataframe\">\n",
       "  <thead>\n",
       "    <tr style=\"text-align: right;\">\n",
       "      <th></th>\n",
       "      <th>Name</th>\n",
       "      <th>Yield to Maturity</th>\n",
       "      <th>As of Date</th>\n",
       "    </tr>\n",
       "    <tr>\n",
       "      <th>Ticker</th>\n",
       "      <th></th>\n",
       "      <th></th>\n",
       "      <th></th>\n",
       "    </tr>\n",
       "  </thead>\n",
       "  <tbody>\n",
       "    <tr>\n",
       "      <th>USFR</th>\n",
       "      <td>WisdomTree Floating Rate Treasury Fund</td>\n",
       "      <td>0.0551</td>\n",
       "      <td>03-18-2024</td>\n",
       "    </tr>\n",
       "    <tr>\n",
       "      <th>UNIY</th>\n",
       "      <td>WisdomTree Voya Yield Enhanced USD Universal B...</td>\n",
       "      <td>0.0530</td>\n",
       "      <td>03-18-2024</td>\n",
       "    </tr>\n",
       "    <tr>\n",
       "      <th>AGGY</th>\n",
       "      <td>WisdomTree Yield Enhanced U.S. Aggregate Bond ...</td>\n",
       "      <td>0.0518</td>\n",
       "      <td>03-18-2024</td>\n",
       "    </tr>\n",
       "    <tr>\n",
       "      <th>WFHY</th>\n",
       "      <td>WisdomTree U.S. High Yield Corporate Bond Fund</td>\n",
       "      <td>0.0733</td>\n",
       "      <td>03-18-2024</td>\n",
       "    </tr>\n",
       "    <tr>\n",
       "      <th>HYZD</th>\n",
       "      <td>WisdomTree Interest Rate Hedged High Yield Bon...</td>\n",
       "      <td>0.0737</td>\n",
       "      <td>03-18-2024</td>\n",
       "    </tr>\n",
       "    <tr>\n",
       "      <th>AGZD</th>\n",
       "      <td>WisdomTree Interest Rate Hedged U.S. Aggregate...</td>\n",
       "      <td>0.0496</td>\n",
       "      <td>03-18-2024</td>\n",
       "    </tr>\n",
       "    <tr>\n",
       "      <th>ELD</th>\n",
       "      <td>WisdomTree Emerging Markets Local Debt Fund</td>\n",
       "      <td>0.0737</td>\n",
       "      <td>03-18-2024</td>\n",
       "    </tr>\n",
       "    <tr>\n",
       "      <th>SFIG</th>\n",
       "      <td>WisdomTree U.S. Short-Term Corporate Bond Fund</td>\n",
       "      <td>0.0528</td>\n",
       "      <td>03-18-2024</td>\n",
       "    </tr>\n",
       "    <tr>\n",
       "      <th>EMCB</th>\n",
       "      <td>WisdomTree Emerging Markets Corporate Bond Fund</td>\n",
       "      <td>0.0666</td>\n",
       "      <td>03-18-2024</td>\n",
       "    </tr>\n",
       "    <tr>\n",
       "      <th>MTGP</th>\n",
       "      <td>WisdomTree Mortgage Plus Bond Fund</td>\n",
       "      <td>0.0539</td>\n",
       "      <td>03-18-2024</td>\n",
       "    </tr>\n",
       "    <tr>\n",
       "      <th>SHAG</th>\n",
       "      <td>WisdomTree Yield Enhanced U.S. Short-Term Aggr...</td>\n",
       "      <td>0.0518</td>\n",
       "      <td>03-18-2024</td>\n",
       "    </tr>\n",
       "    <tr>\n",
       "      <th>WFIG</th>\n",
       "      <td>WisdomTree U.S. Corporate Bond Fund</td>\n",
       "      <td>0.0542</td>\n",
       "      <td>03-18-2024</td>\n",
       "    </tr>\n",
       "    <tr>\n",
       "      <th>WTBN</th>\n",
       "      <td>WisdomTree Bianco Total Return Fund</td>\n",
       "      <td>0.0537</td>\n",
       "      <td>03-18-2024</td>\n",
       "    </tr>\n",
       "    <tr>\n",
       "      <th>USIN</th>\n",
       "      <td>WisdomTree 7-10 Year Laddered Treasury Fund</td>\n",
       "      <td>0.0434</td>\n",
       "      <td>03-18-2024</td>\n",
       "    </tr>\n",
       "    <tr>\n",
       "      <th>USSH</th>\n",
       "      <td>WisdomTree 1-3 Year Laddered Treasury Fund</td>\n",
       "      <td>0.0476</td>\n",
       "      <td>03-18-2024</td>\n",
       "    </tr>\n",
       "  </tbody>\n",
       "</table>\n",
       "</div>"
      ],
      "text/plain": [
       "                                                     Name  Yield to Maturity  \\\n",
       "Ticker                                                                         \n",
       "USFR               WisdomTree Floating Rate Treasury Fund             0.0551   \n",
       "UNIY    WisdomTree Voya Yield Enhanced USD Universal B...             0.0530   \n",
       "AGGY    WisdomTree Yield Enhanced U.S. Aggregate Bond ...             0.0518   \n",
       "WFHY       WisdomTree U.S. High Yield Corporate Bond Fund             0.0733   \n",
       "HYZD    WisdomTree Interest Rate Hedged High Yield Bon...             0.0737   \n",
       "AGZD    WisdomTree Interest Rate Hedged U.S. Aggregate...             0.0496   \n",
       "ELD           WisdomTree Emerging Markets Local Debt Fund             0.0737   \n",
       "SFIG       WisdomTree U.S. Short-Term Corporate Bond Fund             0.0528   \n",
       "EMCB      WisdomTree Emerging Markets Corporate Bond Fund             0.0666   \n",
       "MTGP                   WisdomTree Mortgage Plus Bond Fund             0.0539   \n",
       "SHAG    WisdomTree Yield Enhanced U.S. Short-Term Aggr...             0.0518   \n",
       "WFIG                  WisdomTree U.S. Corporate Bond Fund             0.0542   \n",
       "WTBN                  WisdomTree Bianco Total Return Fund             0.0537   \n",
       "USIN          WisdomTree 7-10 Year Laddered Treasury Fund             0.0434   \n",
       "USSH           WisdomTree 1-3 Year Laddered Treasury Fund             0.0476   \n",
       "\n",
       "        As of Date  \n",
       "Ticker              \n",
       "USFR    03-18-2024  \n",
       "UNIY    03-18-2024  \n",
       "AGGY    03-18-2024  \n",
       "WFHY    03-18-2024  \n",
       "HYZD    03-18-2024  \n",
       "AGZD    03-18-2024  \n",
       "ELD     03-18-2024  \n",
       "SFIG    03-18-2024  \n",
       "EMCB    03-18-2024  \n",
       "MTGP    03-18-2024  \n",
       "SHAG    03-18-2024  \n",
       "WFIG    03-18-2024  \n",
       "WTBN    03-18-2024  \n",
       "USIN    03-18-2024  \n",
       "USSH    03-18-2024  "
      ]
     },
     "execution_count": 3,
     "metadata": {},
     "output_type": "execute_result"
    }
   ],
   "source": [
    "df = wisdomtree_bot(return_df=True, headless=False)\n",
    "df"
   ]
  },
  {
   "cell_type": "code",
   "execution_count": null,
   "id": "42e3a344-3247-4a57-810e-b25ba4a6de51",
   "metadata": {},
   "outputs": [],
   "source": []
  }
 ],
 "metadata": {
  "kernelspec": {
   "display_name": "Python 3 (ipykernel)",
   "language": "python",
   "name": "python3"
  },
  "language_info": {
   "codemirror_mode": {
    "name": "ipython",
    "version": 3
   },
   "file_extension": ".py",
   "mimetype": "text/x-python",
   "name": "python",
   "nbconvert_exporter": "python",
   "pygments_lexer": "ipython3",
   "version": "3.11.3"
  }
 },
 "nbformat": 4,
 "nbformat_minor": 5
}
