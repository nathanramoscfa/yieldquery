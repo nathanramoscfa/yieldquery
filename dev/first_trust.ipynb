{
 "cells": [
  {
   "cell_type": "code",
   "execution_count": 1,
   "id": "ee255a4c-ca2f-4eba-943c-6eb4e40f3c4d",
   "metadata": {},
   "outputs": [],
   "source": [
    "import sys\n",
    "sys.path.insert(0, '..')  # Add the parent directory (project root directory) to the Python path"
   ]
  },
  {
   "cell_type": "code",
   "execution_count": 2,
   "id": "6178199b-6267-4480-9840-2edacce415bd",
   "metadata": {
    "tags": []
   },
   "outputs": [],
   "source": [
    "from bots.first_trust import first_trust_bot"
   ]
  },
  {
   "cell_type": "code",
   "execution_count": 3,
   "id": "676b1401-0ee9-4435-8528-7bf4e253ab2a",
   "metadata": {
    "tags": []
   },
   "outputs": [
    {
     "name": "stdout",
     "output_type": "stream",
     "text": [
      "Downloading First Trust ETF yield data...\n"
     ]
    },
    {
     "name": "stderr",
     "output_type": "stream",
     "text": [
      "100%|██████████████████████████████████████████████████████████████████████████████████| 20/20 [01:26<00:00,  4.33s/it]"
     ]
    },
    {
     "name": "stdout",
     "output_type": "stream",
     "text": [
      "Saving First Trust ETF yield data to CSV file...\n",
      "Done!\n"
     ]
    },
    {
     "name": "stderr",
     "output_type": "stream",
     "text": [
      "\n"
     ]
    },
    {
     "data": {
      "text/html": [
       "<div>\n",
       "<style scoped>\n",
       "    .dataframe tbody tr th:only-of-type {\n",
       "        vertical-align: middle;\n",
       "    }\n",
       "\n",
       "    .dataframe tbody tr th {\n",
       "        vertical-align: top;\n",
       "    }\n",
       "\n",
       "    .dataframe thead th {\n",
       "        text-align: right;\n",
       "    }\n",
       "</style>\n",
       "<table border=\"1\" class=\"dataframe\">\n",
       "  <thead>\n",
       "    <tr style=\"text-align: right;\">\n",
       "      <th></th>\n",
       "      <th>ETF Name</th>\n",
       "      <th>Weighted Average Yield-to-Worst</th>\n",
       "      <th>As of</th>\n",
       "    </tr>\n",
       "    <tr>\n",
       "      <th>Ticker</th>\n",
       "      <th></th>\n",
       "      <th></th>\n",
       "      <th></th>\n",
       "    </tr>\n",
       "  </thead>\n",
       "  <tbody>\n",
       "    <tr>\n",
       "      <th>FEMB</th>\n",
       "      <td>First Trust Emerging Markets Local Currency Bo...</td>\n",
       "      <td>0.0701</td>\n",
       "      <td>02-29-2024</td>\n",
       "    </tr>\n",
       "    <tr>\n",
       "      <th>FTSM</th>\n",
       "      <td>First Trust Enhanced Short Maturity ETF</td>\n",
       "      <td>0.0558</td>\n",
       "      <td>03-18-2024</td>\n",
       "    </tr>\n",
       "    <tr>\n",
       "      <th>FSIG</th>\n",
       "      <td>First Trust Limited Duration Investment Grade ...</td>\n",
       "      <td>0.0530</td>\n",
       "      <td>03-18-2024</td>\n",
       "    </tr>\n",
       "    <tr>\n",
       "      <th>LGOV</th>\n",
       "      <td>First Trust Long Duration Opportunities ETF</td>\n",
       "      <td>0.0401</td>\n",
       "      <td>02-29-2024</td>\n",
       "    </tr>\n",
       "    <tr>\n",
       "      <th>LMBS</th>\n",
       "      <td>First Trust Low Duration Opportunities ETF</td>\n",
       "      <td>0.0501</td>\n",
       "      <td>02-29-2024</td>\n",
       "    </tr>\n",
       "    <tr>\n",
       "      <th>FTSL</th>\n",
       "      <td>First Trust Senior Loan Fund</td>\n",
       "      <td>0.0809</td>\n",
       "      <td>03-18-2024</td>\n",
       "    </tr>\n",
       "    <tr>\n",
       "      <th>HYLS</th>\n",
       "      <td>First Trust Tactical High Yield ETF</td>\n",
       "      <td>0.0743</td>\n",
       "      <td>03-18-2024</td>\n",
       "    </tr>\n",
       "    <tr>\n",
       "      <th>FIXD</th>\n",
       "      <td>First Trust TCW Opportunistic Fixed Income ETF</td>\n",
       "      <td>0.0524</td>\n",
       "      <td>02-29-2024</td>\n",
       "    </tr>\n",
       "    <tr>\n",
       "      <th>DEED</th>\n",
       "      <td>First Trust TCW Securitized Plus ETF</td>\n",
       "      <td>0.0620</td>\n",
       "      <td>02-29-2024</td>\n",
       "    </tr>\n",
       "    <tr>\n",
       "      <th>UCON</th>\n",
       "      <td>First Trust TCW Unconstrained Plus Bond ETF</td>\n",
       "      <td>0.0625</td>\n",
       "      <td>02-29-2024</td>\n",
       "    </tr>\n",
       "    <tr>\n",
       "      <th>FCAL</th>\n",
       "      <td>First Trust California Municipal High Income ETF</td>\n",
       "      <td>0.0373</td>\n",
       "      <td>02-29-2024</td>\n",
       "    </tr>\n",
       "    <tr>\n",
       "      <th>FMB</th>\n",
       "      <td>First Trust Managed Municipal ETF</td>\n",
       "      <td>0.0385</td>\n",
       "      <td>02-29-2024</td>\n",
       "    </tr>\n",
       "    <tr>\n",
       "      <th>FMHI</th>\n",
       "      <td>First Trust Municipal High Income ETF</td>\n",
       "      <td>0.0478</td>\n",
       "      <td>02-29-2024</td>\n",
       "    </tr>\n",
       "    <tr>\n",
       "      <th>FMNY</th>\n",
       "      <td>First Trust New York Municipal High Income ETF</td>\n",
       "      <td>0.0368</td>\n",
       "      <td>02-29-2024</td>\n",
       "    </tr>\n",
       "    <tr>\n",
       "      <th>FSMB</th>\n",
       "      <td>First Trust Short Duration Managed Municipal ETF</td>\n",
       "      <td>0.0362</td>\n",
       "      <td>02-29-2024</td>\n",
       "    </tr>\n",
       "    <tr>\n",
       "      <th>FUMB</th>\n",
       "      <td>First Trust Ultra Short Duration Municipal ETF</td>\n",
       "      <td>0.0357</td>\n",
       "      <td>02-29-2024</td>\n",
       "    </tr>\n",
       "  </tbody>\n",
       "</table>\n",
       "</div>"
      ],
      "text/plain": [
       "                                                 ETF Name  \\\n",
       "Ticker                                                      \n",
       "FEMB    First Trust Emerging Markets Local Currency Bo...   \n",
       "FTSM              First Trust Enhanced Short Maturity ETF   \n",
       "FSIG    First Trust Limited Duration Investment Grade ...   \n",
       "LGOV          First Trust Long Duration Opportunities ETF   \n",
       "LMBS           First Trust Low Duration Opportunities ETF   \n",
       "FTSL                         First Trust Senior Loan Fund   \n",
       "HYLS                  First Trust Tactical High Yield ETF   \n",
       "FIXD       First Trust TCW Opportunistic Fixed Income ETF   \n",
       "DEED                 First Trust TCW Securitized Plus ETF   \n",
       "UCON          First Trust TCW Unconstrained Plus Bond ETF   \n",
       "FCAL     First Trust California Municipal High Income ETF   \n",
       "FMB                     First Trust Managed Municipal ETF   \n",
       "FMHI                First Trust Municipal High Income ETF   \n",
       "FMNY       First Trust New York Municipal High Income ETF   \n",
       "FSMB     First Trust Short Duration Managed Municipal ETF   \n",
       "FUMB       First Trust Ultra Short Duration Municipal ETF   \n",
       "\n",
       "        Weighted Average Yield-to-Worst       As of  \n",
       "Ticker                                               \n",
       "FEMB                             0.0701  02-29-2024  \n",
       "FTSM                             0.0558  03-18-2024  \n",
       "FSIG                             0.0530  03-18-2024  \n",
       "LGOV                             0.0401  02-29-2024  \n",
       "LMBS                             0.0501  02-29-2024  \n",
       "FTSL                             0.0809  03-18-2024  \n",
       "HYLS                             0.0743  03-18-2024  \n",
       "FIXD                             0.0524  02-29-2024  \n",
       "DEED                             0.0620  02-29-2024  \n",
       "UCON                             0.0625  02-29-2024  \n",
       "FCAL                             0.0373  02-29-2024  \n",
       "FMB                              0.0385  02-29-2024  \n",
       "FMHI                             0.0478  02-29-2024  \n",
       "FMNY                             0.0368  02-29-2024  \n",
       "FSMB                             0.0362  02-29-2024  \n",
       "FUMB                             0.0357  02-29-2024  "
      ]
     },
     "execution_count": 3,
     "metadata": {},
     "output_type": "execute_result"
    }
   ],
   "source": [
    "df = first_trust_bot(return_df=True)\n",
    "df"
   ]
  },
  {
   "cell_type": "code",
   "execution_count": null,
   "id": "d3f68976-2eb3-49e0-9c8d-dfd0dc103eda",
   "metadata": {},
   "outputs": [],
   "source": []
  }
 ],
 "metadata": {
  "kernelspec": {
   "display_name": "Python 3 (ipykernel)",
   "language": "python",
   "name": "python3"
  },
  "language_info": {
   "codemirror_mode": {
    "name": "ipython",
    "version": 3
   },
   "file_extension": ".py",
   "mimetype": "text/x-python",
   "name": "python",
   "nbconvert_exporter": "python",
   "pygments_lexer": "ipython3",
   "version": "3.11.3"
  }
 },
 "nbformat": 4,
 "nbformat_minor": 5
}
